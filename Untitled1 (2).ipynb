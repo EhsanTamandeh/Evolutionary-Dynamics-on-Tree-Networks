{
 "cells": [
  {
   "cell_type": "code",
   "execution_count": 1,
   "metadata": {},
   "outputs": [],
   "source": [
    "import numpy as np \n",
    "import random\n",
    "import networkx as nx\n",
    "import matplotlib\n",
    "import matplotlib.pyplot as plt\n",
    "import time "
   ]
  },
  {
   "cell_type": "code",
   "execution_count": null,
   "metadata": {},
   "outputs": [],
   "source": [
    "def nNumber(G,r,step):\n",
    "    n=len(G)\n",
    "    z=n\n",
    "    t=0\n",
    "    M_array=np.zeros(step)\n",
    "    M={random.randint(0,n-1)}\n",
    "    D={j for j in range(0,n)}\n",
    "    R=D-M;u=0\n",
    "    Mutant_labels=[]\n",
    "    #print(M)\n",
    "    Mutant_labels.append(list(M))\n",
    "    #print(Mutant_labels)\n",
    "    while u<step:\n",
    "        #print('u=',u)\n",
    "        #print('M0=',M)\n",
    "        i=len(M)     \n",
    "        k=random.choices(size, weights=r)\n",
    "\n",
    "        \n",
    "            if k<pi_pos:  ###probabililty for a mutant to reproduce\n",
    "                ch=random.sample(M,1)\n",
    "                NE=[n for n in G.neighbors(ch[0])]\n",
    "                chh=random.sample(NE,1)\n",
    "                if chh[0]  in R:\n",
    "                    M.add(chh[0])\n",
    "                    R.remove(chh[0])\n",
    "                    t+=1\n",
    "\n",
    "            else:   ###of course when p <(1-pii) and >pi_pos so this is obvious this is for a mutant to die lonely\n",
    "                chre=random.sample(R,1)\n",
    "                NEre=[n for n in G.neighbors(chre[0])]\n",
    "                chhre=random.sample(NEre,1)\n",
    "                if chhre[0]  in M:\n",
    "                    R.add(chhre[0])\n",
    "                    M.remove(chhre[0])\n",
    "                    t+=1\n",
    "        \n",
    "        M_array[u]=len(M)/n\n",
    "        #print('M1=',M)\n",
    "        Mutant_labels.append(list(M))\n",
    "        #print('ml=', Mutant_labels)\n",
    "        u=u+1\n",
    "            \n",
    "    return(t,M_array,Mutant_labels)"
   ]
  }
 ],
 "metadata": {
  "kernelspec": {
   "display_name": "Python 3 (ipykernel)",
   "language": "python",
   "name": "python3"
  },
  "language_info": {
   "codemirror_mode": {
    "name": "ipython",
    "version": 3
   },
   "file_extension": ".py",
   "mimetype": "text/x-python",
   "name": "python",
   "nbconvert_exporter": "python",
   "pygments_lexer": "ipython3",
   "version": "3.9.12"
  }
 },
 "nbformat": 4,
 "nbformat_minor": 4
}
