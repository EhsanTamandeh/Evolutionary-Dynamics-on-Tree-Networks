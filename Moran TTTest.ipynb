{
 "cells": [
  {
   "cell_type": "code",
   "execution_count": 1,
   "metadata": {},
   "outputs": [],
   "source": [
    "import numpy as np \n",
    "import random\n",
    "import networkx as nx\n",
    "import matplotlib.pyplot as plt\n",
    "import time "
   ]
  },
  {
   "cell_type": "code",
   "execution_count": 2,
   "metadata": {},
   "outputs": [],
   "source": [
    "\n",
    "\n",
    "def nNumber(G,r,step):\n",
    "    n=len(G)\n",
    "    z=n\n",
    "    t=0\n",
    "    M_array=np.zeros(step)\n",
    "    M={random.randint(0,n-1)}\n",
    "    D={j for j in range(0,n)}\n",
    "    R=D-M;u=0\n",
    "    while u<step:\n",
    "        i=len(M)     \n",
    "        k=random.random()\n",
    "        pi_neg=(n-i)/((n-i)+(i*r))\n",
    "        pi_pos=(i*r)/((n-i)+(i*r))\n",
    "        pii=1-(pi_neg+pi_pos)\n",
    "        if k<(1-pii) and i!=0  :\n",
    "\n",
    "        \n",
    "            if k<pi_pos:  ###probabililty for a mutant to reproduce\n",
    "                ch=random.sample(M,1)\n",
    "                NE=[n for n in G.neighbors(ch[0])]\n",
    "                chh=random.sample(NE,1)\n",
    "                if chh[0]  in R:\n",
    "                    M.add(chh[0])\n",
    "                    R.remove(chh[0])\n",
    "                    t+=1\n",
    "\n",
    "            else:   ###of course when p <(1-pii) and >pi_pos so this is obvious this is for a mutant to die lonely\n",
    "                chre=random.sample(R,1)\n",
    "                NEre=[n for n in G.neighbors(chre[0])]\n",
    "                chhre=random.sample(NEre,1)\n",
    "                if chhre[0]  in M:\n",
    "                    R.add(chhre[0])\n",
    "                    M.remove(chhre[0])\n",
    "                    t+=1\n",
    "        M_array[u]=len(M)/n\n",
    "        u=u+1\n",
    "            \n",
    "    return(t,M_array)"
   ]
  },
  {
   "cell_type": "code",
   "execution_count": 3,
   "metadata": {},
   "outputs": [],
   "source": [
    "num=100            #number of runs with different initial conditions\n",
    "step=2000         #number of timesteps used in simulation\n",
    "size=10            #number of nodes\n",
    "r=1.8              #fitness\n",
    "G=nx.random_tree(size,seed=0);"
   ]
  },
  {
   "cell_type": "code",
   "execution_count": 4,
   "metadata": {},
   "outputs": [
    {
     "data": {
      "image/png": "[encoded data removed]",
      "text/plain": [
       "<Figure size 432x288 with 1 Axes>"
      ]
     },
     "metadata": {},
     "output_type": "display_data"
    }
   ],
   "source": [
    "nx.draw(G)"
   ]
  },
  {
   "cell_type": "code",
   "execution_count": null,
   "metadata": {},
   "outputs": [],
   "source": []
  },
  {
   "cell_type": "code",
   "execution_count": 5,
   "metadata": {},
   "outputs": [
    {
     "data": {
      "text/plain": [
       "matrix([[0., 0., 0., 1., 1., 0., 0., 0., 0., 0.],\n",
       "        [0., 0., 0., 0., 0., 0., 1., 0., 0., 0.],\n",
       "        [0., 0., 0., 0., 0., 0., 1., 0., 0., 0.],\n",
       "        [1., 0., 0., 0., 0., 0., 0., 0., 0., 0.],\n",
       "        [1., 0., 0., 0., 0., 0., 1., 0., 0., 1.],\n",
       "        [0., 0., 0., 0., 0., 0., 0., 0., 1., 0.],\n",
       "        [0., 1., 1., 0., 1., 0., 0., 1., 0., 0.],\n",
       "        [0., 0., 0., 0., 0., 0., 1., 0., 1., 0.],\n",
       "        [0., 0., 0., 0., 0., 1., 0., 1., 0., 0.],\n",
       "        [0., 0., 0., 0., 1., 0., 0., 0., 0., 0.]])"
      ]
     },
     "execution_count": 5,
     "metadata": {},
     "output_type": "execute_result"
    }
   ],
   "source": [
    "H"
   ]
  },
  {
   "cell_type": "code",
   "execution_count": 6,
   "metadata": {},
   "outputs": [],
   "source": [
    "a=np.matrix([[0., 0., 0., 1., 1., 0., 0., 0., 0., 1.],\n",
    "        [0., 0., 0., 0., 0., 0., 1., 0., 0., 0.],\n",
    "        [0., 0., 0., 0., 0., 0., 1., 0., 0., 0.],\n",
    "        [1., 0., 0., 0., 0., 0., 0., 0., 0., 0.],\n",
    "        [1., 0., 0., 0., 0., 0., 1., 0., 0., 1.],\n",
    "        [0., 0., 0., 0., 0., 0., 0., 0., 1., 0.],\n",
    "        [0., 1., 1., 0., 1., 0., 0., 1., 0., 0.],\n",
    "        [0., 0., 0., 0., 0., 0., 1., 0., 1., 0.],\n",
    "        [0., 0., 0., 0., 0., 1., 0., 1., 0., 0.],\n",
    "        [1., 0., 0., 0., 1., 0., 0., 0., 0., 0.]])     #One leave added to the Matrix"
   ]
  },
  {
   "cell_type": "code",
   "execution_count": 7,
   "metadata": {},
   "outputs": [
    {
     "name": "stdout",
     "output_type": "stream",
     "text": [
      "7.994620084762573\n"
     ]
    }
   ],
   "source": [
    "t1=time.time()\n",
    "num=100            #number of runs with different initial conditions\n",
    "step=10000         #number of timesteps used in simulation\n",
    "size=10            #number of nodes\n",
    "r=2                #fitness\n",
    "#a=nx.random_tree(size,seed=0);\n",
    "G=nx.from_numpy_matrix(a)\n",
    "fix_time=[]\n",
    "for h in range (num):\n",
    "    t,s,m=nNumber(G,r,step)\n",
    "    for ttt in range(len(m)):\n",
    "        if m[ttt]==m[-1]:\n",
    "            fix_time.append(ttt)\n",
    "            break\n",
    "    np.savetxt('mut_time'+str(h)+'.dat',m)\n",
    "    \n",
    "t2=time.time()\n",
    "print(t2-t1)"
   ]
  },
  {
   "cell_type": "code",
   "execution_count": 8,
   "metadata": {},
   "outputs": [
    {
     "data": {
      "text/plain": [
       "[445,\n",
       " 217,\n",
       " 126,\n",
       " 183,\n",
       " 385,\n",
       " 342,\n",
       " 146,\n",
       " 123,\n",
       " 127,\n",
       " 197,\n",
       " 332,\n",
       " 935,\n",
       " 47,\n",
       " 228,\n",
       " 560,\n",
       " 238,\n",
       " 5,\n",
       " 207,\n",
       " 154,\n",
       " 635,\n",
       " 2,\n",
       " 507,\n",
       " 74,\n",
       " 170,\n",
       " 367,\n",
       " 187,\n",
       " 352,\n",
       " 154,\n",
       " 171,\n",
       " 263,\n",
       " 122,\n",
       " 251,\n",
       " 201,\n",
       " 51,\n",
       " 56,\n",
       " 78,\n",
       " 175,\n",
       " 272,\n",
       " 346,\n",
       " 286,\n",
       " 206,\n",
       " 109,\n",
       " 193,\n",
       " 281,\n",
       " 230,\n",
       " 1,\n",
       " 38,\n",
       " 459,\n",
       " 158,\n",
       " 469,\n",
       " 64,\n",
       " 217,\n",
       " 5,\n",
       " 366,\n",
       " 5,\n",
       " 269,\n",
       " 119,\n",
       " 492,\n",
       " 68,\n",
       " 154,\n",
       " 371,\n",
       " 146,\n",
       " 188,\n",
       " 206,\n",
       " 179,\n",
       " 142,\n",
       " 207,\n",
       " 1,\n",
       " 67,\n",
       " 506,\n",
       " 127,\n",
       " 127,\n",
       " 174,\n",
       " 90,\n",
       " 307,\n",
       " 186,\n",
       " 208,\n",
       " 193,\n",
       " 83,\n",
       " 260,\n",
       " 229,\n",
       " 145,\n",
       " 0,\n",
       " 56,\n",
       " 5,\n",
       " 189,\n",
       " 277,\n",
       " 185,\n",
       " 310,\n",
       " 544,\n",
       " 186,\n",
       " 278,\n",
       " 9,\n",
       " 210,\n",
       " 149,\n",
       " 309,\n",
       " 51,\n",
       " 199,\n",
       " 312,\n",
       " 360]"
      ]
     },
     "execution_count": 8,
     "metadata": {},
     "output_type": "execute_result"
    }
   ],
   "source": [
    "fix_time"
   ]
  },
  {
   "cell_type": "code",
   "execution_count": 9,
   "metadata": {},
   "outputs": [
    {
     "data": {
      "text/plain": [
       "100"
      ]
     },
     "execution_count": 9,
     "metadata": {},
     "output_type": "execute_result"
    }
   ],
   "source": [
    "len(fix_time)"
   ]
  },
  {
   "cell_type": "code",
   "execution_count": 10,
   "metadata": {},
   "outputs": [
    {
     "data": {
      "text/plain": [
       "213.91"
      ]
     },
     "execution_count": 10,
     "metadata": {},
     "output_type": "execute_result"
    }
   ],
   "source": [
    "np.sum(fix_time)/len(fix_time)"
   ]
  },
  {
   "cell_type": "code",
   "execution_count": 11,
   "metadata": {},
   "outputs": [
    {
     "data": {
      "text/plain": [
       "[<matplotlib.lines.Line2D at 0x17c25083220>]"
      ]
     },
     "execution_count": 11,
     "metadata": {},
     "output_type": "execute_result"
    },
    {
     "data": {
      "image/png": "[encoded data removed]",
      "text/plain": [
       "<Figure size 432x288 with 1 Axes>"
      ]
     },
     "metadata": {
      "needs_background": "light"
     },
     "output_type": "display_data"
    }
   ],
   "source": [
    "plt.plot(m)"
   ]
  },
  {
   "cell_type": "code",
   "execution_count": 12,
   "metadata": {},
   "outputs": [],
   "source": [
    "F=[]\n",
    "for m in range (num):\n",
    "    F.append(np.loadtxt('mut_time'+str(m)+'.dat'))"
   ]
  },
  {
   "cell_type": "code",
   "execution_count": 13,
   "metadata": {},
   "outputs": [],
   "source": [
    "M_array=np.zeros(step) #length of sm is number of steps\n",
    "for m in range (num):\n",
    "    M_array=M_array+F[m]\n",
    "M_avg=M_array/num"
   ]
  },
  {
   "cell_type": "code",
   "execution_count": 14,
   "metadata": {},
   "outputs": [
    {
     "data": {
      "text/plain": [
       "Text(0, 0.5, 'Mutants')"
      ]
     },
     "execution_count": 14,
     "metadata": {},
     "output_type": "execute_result"
    },
    {
     "data": {
      "image/png": "[encoded data removed]",
      "text/plain": [
       "<Figure size 432x288 with 1 Axes>"
      ]
     },
     "metadata": {
      "needs_background": "light"
     },
     "output_type": "display_data"
    }
   ],
   "source": [
    "plt.plot(M_avg)\n",
    "plt.xlabel(\"Timestep\")\n",
    "plt.ylabel(\"Mutants\")"
   ]
  },
  {
   "cell_type": "code",
   "execution_count": 15,
   "metadata": {},
   "outputs": [],
   "source": [
    "def fixation_time(A):\n",
    "    time_list=[]\n",
    "    for i in range (len(A)):\n",
    "        if A[i]==A[-1]:\n",
    "            time_list.append(i)\n",
    "            break\n",
    "    return time_list[0]"
   ]
  },
  {
   "cell_type": "code",
   "execution_count": 16,
   "metadata": {},
   "outputs": [
    {
     "data": {
      "text/plain": [
       "935"
      ]
     },
     "execution_count": 16,
     "metadata": {},
     "output_type": "execute_result"
    }
   ],
   "source": [
    "fixation_time(M_avg)"
   ]
  },
  {
   "cell_type": "code",
   "execution_count": 17,
   "metadata": {},
   "outputs": [
    {
     "data": {
      "text/plain": [
       "Text(0, 0.5, 'Mutants')"
      ]
     },
     "execution_count": 17,
     "metadata": {},
     "output_type": "execute_result"
    },
    {
     "data": {
      "image/png": "[encoded data removed]",
      "text/plain": [
       "<Figure size 432x288 with 1 Axes>"
      ]
     },
     "metadata": {
      "needs_background": "light"
     },
     "output_type": "display_data"
    }
   ],
   "source": [
    "Y=np.arange(0,1,0.01)\n",
    "X=np.tile(np.array([fixation_time(M_avg)]),(1,len(Y)))[0]\n",
    "plt.plot(X,Y,'--',markersize=10)\n",
    "\n",
    "plt.plot(M_avg)\n",
    "plt.xlabel(\"Timestep\")\n",
    "plt.ylabel(\"Mutants\")"
   ]
  },
  {
   "cell_type": "code",
   "execution_count": null,
   "metadata": {},
   "outputs": [],
   "source": []
  }
 ],
 "metadata": {
  "kernelspec": {
   "display_name": "Python 3 (ipykernel)",
   "language": "python",
   "name": "python3"
  },
  "language_info": {
   "codemirror_mode": {
    "name": "ipython",
    "version": 3
   },
   "file_extension": ".py",
   "mimetype": "text/x-python",
   "name": "python",
   "nbconvert_exporter": "python",
   "pygments_lexer": "ipython3",
   "version": "3.9.12"
  }
 },
 "nbformat": 4,
 "nbformat_minor": 4
}
