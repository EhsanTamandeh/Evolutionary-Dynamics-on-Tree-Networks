{
 "cells": [
  {
   "cell_type": "code",
   "execution_count": 1,
   "id": "1d154115",
   "metadata": {},
   "outputs": [],
   "source": [
    "import numpy as np\n",
    "import networkx as nx"
   ]
  },
  {
   "cell_type": "code",
   "execution_count": 2,
   "id": "d73a57a6",
   "metadata": {},
   "outputs": [],
   "source": [
    "def rand_net(G): #adds one random edge to the graph\n",
    "    a=nx.adjacency_matrix(G).toarray()\n",
    "    choice=np.random.choice(np.arange(0,len(a)),2)\n",
    "    ruler=np.ones((len(a),len(a)))-np.eye(len(a)) #complete graph to check if any empty element exists\n",
    "    check_adj=False\n",
    "    while choice[0]==choice[1] or a[choice[0],choice[1]]==1:\n",
    "        choice=np.random.choice(np.arange(0,len(a)),2)\n",
    "        if (a==ruler).all()==True:\n",
    "            check_adj=True\n",
    "            break\n",
    "        \n",
    "    \n",
    "    a[choice[0],choice[1]]=1;a[choice[1],choice[0]]=1\n",
    "    G_new=nx.from_numpy_array(a,create_using=nx.Graph())\n",
    "    return G_new"
   ]
  },
  {
   "cell_type": "code",
   "execution_count": 4,
   "id": "f8f39c7b",
   "metadata": {},
   "outputs": [],
   "source": [
    "size=500\n",
    "\n",
    "for i in range(1000):\n",
    "    if i==0:\n",
    "        G=nx.random_tree(size,seed=0)\n",
    "        A=nx.adjacency_matrix(G).toarray()\n",
    "        np.savetxt('G_r7_0.txt',A)\n",
    "    else:\n",
    "        G=rand_net(G)\n",
    "        A=nx.adjacency_matrix(G).toarray()\n",
    "        np.savetxt('G_r7_'+str(i)+'.txt',A)"
   ]
  },
  {
   "cell_type": "code",
   "execution_count": null,
   "id": "87ac52f3",
   "metadata": {},
   "outputs": [],
   "source": [
    "t1=time.time()\n",
    "num=300\n",
    "step=300000\n",
    "size=500\n",
    "r=7\n",
    "start=0;end=250\n",
    "no_graph=np.arange(start,end)\n",
    "fix_time_total=[]\n",
    "ext_time_total=[]\n",
    "#G_tot=[];\n",
    "#M=[]\n",
    "for j in (no_graph):\n",
    "    mm=[]\n",
    "    #mm=np.zeros(num*step)\n",
    "    fix_time=[];ext_time=[]\n",
    "\n",
    "    A=np.loadtxt('G_r5_'+str(j)+'.txt')    \n",
    "    G=nx.from_numpy_array(A,create_using=nx.Graph())  \n",
    "\n",
    "    for h in range (num):\n",
    "        #print('h=',h)\n",
    "\n",
    "        t,m=nNumber(G,r,step)\n",
    "        \n",
    "        if check_stability(m)==False:\n",
    "            print('num=', h)\n",
    "            print('no=', j)\n",
    "        \n",
    "        #mm[0:step]=m\n",
    "        mm.append(m)\n",
    "        if m[-1]==1:\n",
    "            for tt in range (len(m)):\n",
    "                if m[tt]==m[-1]:\n",
    "                    fix_time.append(tt)\n",
    "                    break\n",
    "            \n",
    "        elif m[-1]==0:\n",
    "            for tt in range (len(m)):\n",
    "                if m[tt]==m[-1]:\n",
    "                    ext_time.append(tt)\n",
    "                    break\n",
    "    M_avg=mm[0]                      \n",
    "    for muts in mm[1:]:\n",
    "        M_avg=muts+M_avg\n",
    "    M_avg=M_avg/num\n",
    "    np.savetxt('M_avg_r5'+str(j)+'.dat',M_avg)\n",
    "    np.savetxt('fixtime_r5_'+str(j)+'.dat',np.array(fix_time))\n",
    "    np.savetxt('exttime_r5_'+str(j)+'.dat',np.array(ext_time))\n",
    "    #M.append(mm)\n",
    "    \n",
    "#np.savetxt('fixation'+str(start)+'-'+str(end)+'.dat',fix_time_total)\n",
    "#np.savetxt('extinction'+str(start)+'-'+str(end)+'.dat',ext_time_total)\n",
    "t2=time.time()"
   ]
  }
 ],
 "metadata": {
  "kernelspec": {
   "display_name": "Python 3 (ipykernel)",
   "language": "python",
   "name": "python3"
  },
  "language_info": {
   "codemirror_mode": {
    "name": "ipython",
    "version": 3
   },
   "file_extension": ".py",
   "mimetype": "text/x-python",
   "name": "python",
   "nbconvert_exporter": "python",
   "pygments_lexer": "ipython3",
   "version": "3.9.12"
  }
 },
 "nbformat": 4,
 "nbformat_minor": 5
}
