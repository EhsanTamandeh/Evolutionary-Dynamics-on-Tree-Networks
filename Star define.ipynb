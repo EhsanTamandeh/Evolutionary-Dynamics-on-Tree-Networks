{
 "cells": [
  {
   "cell_type": "code",
   "execution_count": 1,
   "id": "24ed3d1e",
   "metadata": {},
   "outputs": [],
   "source": [
    "import numpy as np\n",
    "import networkx as nx"
   ]
  },
  {
   "cell_type": "code",
   "execution_count": 2,
   "id": "0aa0f8dd",
   "metadata": {},
   "outputs": [],
   "source": [
    "def rand_net(G): #adds one random edge to the graph\n",
    "    a=nx.adjacency_matrix(G).toarray()\n",
    "    choice=np.random.choice(np.arange(0,len(a)),2)\n",
    "    ruler=np.ones((len(a),len(a)))-np.eye(len(a)) #complete graph to check if any empty element exists\n",
    "    check_adj=False\n",
    "    while choice[0]==choice[1] or a[choice[0],choice[1]]==1:\n",
    "        choice=np.random.choice(np.arange(0,len(a)),2)\n",
    "        if (a==ruler).all()==True:\n",
    "            check_adj=True\n",
    "            break\n",
    "        \n",
    "    \n",
    "    a[choice[0],choice[1]]=1;a[choice[1],choice[0]]=1\n",
    "    G_new=nx.from_numpy_array(a,create_using=nx.Graph())\n",
    "    return G_new\n",
    "    \n",
    "                "
   ]
  },
  {
   "cell_type": "code",
   "execution_count": 4,
   "id": "1ae166a1",
   "metadata": {},
   "outputs": [],
   "source": [
    "size=200\n",
    "\n",
    "for i in range(1000):\n",
    "    if i==0:\n",
    "        G=nx.star_graph(size)\n",
    "        A=nx.adjacency_matrix(G).toarray()\n",
    "        np.savetxt('stargraph_r3_0.txt',A)\n",
    "    else:\n",
    "        G=rand_net(G)\n",
    "        A=nx.adjacency_matrix(G).toarray()\n",
    "        np.savetxt('stargraph_r3_'+str(i)+'.txt',A)"
   ]
  },
  {
   "cell_type": "code",
   "execution_count": null,
   "id": "95881c21",
   "metadata": {},
   "outputs": [],
   "source": []
  }
 ],
 "metadata": {
  "kernelspec": {
   "display_name": "Python 3 (ipykernel)",
   "language": "python",
   "name": "python3"
  },
  "language_info": {
   "codemirror_mode": {
    "name": "ipython",
    "version": 3
   },
   "file_extension": ".py",
   "mimetype": "text/x-python",
   "name": "python",
   "nbconvert_exporter": "python",
   "pygments_lexer": "ipython3",
   "version": "3.9.12"
  }
 },
 "nbformat": 4,
 "nbformat_minor": 5
}
