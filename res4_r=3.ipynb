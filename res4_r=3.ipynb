{
 "cells": [
  {
   "cell_type": "code",
   "execution_count": 3,
   "metadata": {},
   "outputs": [],
   "source": [
    "import numpy as np \n",
    "import random\n",
    "import networkx as nx\n",
    "import matplotlib.pyplot as plt\n",
    "import time "
   ]
  },
  {
   "cell_type": "code",
   "execution_count": 6,
   "metadata": {},
   "outputs": [],
   "source": [
    "\n",
    "\n",
    "def nNumber(G,r,step):\n",
    "    n=len(G)\n",
    "    z=n\n",
    "    t=0\n",
    "    M_array=np.zeros(step)\n",
    "    M={random.randint(0,n-1)}\n",
    "    D={j for j in range(0,n)}\n",
    "    R=D-M;u=0\n",
    "    while u<step:\n",
    "        i=len(M)     \n",
    "        k=random.random()\n",
    "        pi_neg=(n-i)/((n-i)+(i*r))\n",
    "        pi_pos=(i*r)/((n-i)+(i*r))\n",
    "        pii=1-(pi_neg+pi_pos)\n",
    "        if k<(1-pii) and i!=0  :\n",
    "\n",
    "        \n",
    "            if k<pi_pos:  ###probabililty for a mutant to reproduce\n",
    "                ch=random.sample(M,1)\n",
    "                NE=[n for n in G.neighbors(ch[0])]\n",
    "                chh=random.sample(NE,1)\n",
    "                if chh[0]  in R:\n",
    "                    M.add(chh[0])\n",
    "                    R.remove(chh[0])\n",
    "                    t+=1\n",
    "\n",
    "            else:   ###of course when p <(1-pii) and >pi_pos so this is obvious this is for a mutant to die lonely\n",
    "                chre=random.sample(R,1)\n",
    "                NEre=[n for n in G.neighbors(chre[0])]\n",
    "                chhre=random.sample(NEre,1)\n",
    "                if chhre[0]  in M:\n",
    "                    R.add(chhre[0])\n",
    "                    M.remove(chhre[0])\n",
    "                    t+=1\n",
    "        M_array[u]=len(M)/n\n",
    "        u=u+1\n",
    "            \n",
    "    return(t,M_array)"
   ]
  },
  {
   "cell_type": "code",
   "execution_count": 7,
   "metadata": {},
   "outputs": [],
   "source": [
    "def addedge(G):  ###for connecting degrees=1\n",
    "    a=nx.adjacency_matrix(G).toarray()\n",
    "    degree=np.sum(a,axis=0)\n",
    "    v=np.nonzero(degree==1)[0] ##identifying deg=1 vertices\n",
    "   \n",
    "    def chk(choice):\n",
    "        if choice[0]!=choice[1]:\n",
    "            return True\n",
    "        else:\n",
    "            return False\n",
    "        \n",
    "    \n",
    "    choice=np.random.choice(v,2)\n",
    "    while chk(choice)==False :\n",
    "        choice=np.random.choice(v,2)\n",
    "    \n",
    "    a[choice[0]][choice[1]]=1;a[choice[1]][choice[0]]\n",
    "\n",
    "    G_new=nx.from_numpy_matrix(a,create_using=nx.Graph())\n",
    "    \n",
    "    return G_new\n",
    "\n",
    "\n",
    "\n",
    "def check_stability(mm):\n",
    "    c=False\n",
    "    if mm[-1]==1 or mm[-1]==0:\n",
    "        c=True\n",
    "    return c"
   ]
  },
  {
   "cell_type": "code",
   "execution_count": 8,
   "metadata": {},
   "outputs": [
    {
     "name": "stderr",
     "output_type": "stream",
     "text": [
      "/tmp/ipykernel_175718/3074412905.py:28: DeprecationWarning: Sampling from a set deprecated\n",
      "since Python 3.9 and will be removed in a subsequent version.\n",
      "  chre=random.sample(R,1)\n",
      "/tmp/ipykernel_175718/3074412905.py:19: DeprecationWarning: Sampling from a set deprecated\n",
      "since Python 3.9 and will be removed in a subsequent version.\n",
      "  ch=random.sample(M,1)\n"
     ]
    },
    {
     "ename": "KeyboardInterrupt",
     "evalue": "",
     "output_type": "error",
     "traceback": [
      "\u001b[0;31m---------------------------------------------------------------------------\u001b[0m",
      "\u001b[0;31mKeyboardInterrupt\u001b[0m                         Traceback (most recent call last)",
      "Input \u001b[0;32mIn [8]\u001b[0m, in \u001b[0;36m<cell line: 12>\u001b[0;34m()\u001b[0m\n\u001b[1;32m     18\u001b[0m G\u001b[38;5;241m=\u001b[39mnx\u001b[38;5;241m.\u001b[39mfrom_numpy_array(A,create_using\u001b[38;5;241m=\u001b[39mnx\u001b[38;5;241m.\u001b[39mGraph())  \n\u001b[1;32m     20\u001b[0m \u001b[38;5;28;01mfor\u001b[39;00m h \u001b[38;5;129;01min\u001b[39;00m \u001b[38;5;28mrange\u001b[39m (num):\n\u001b[1;32m     21\u001b[0m     \u001b[38;5;66;03m#print('h=',h)\u001b[39;00m\n\u001b[0;32m---> 23\u001b[0m     t,m\u001b[38;5;241m=\u001b[39m\u001b[43mnNumber\u001b[49m\u001b[43m(\u001b[49m\u001b[43mG\u001b[49m\u001b[43m,\u001b[49m\u001b[43mr\u001b[49m\u001b[43m,\u001b[49m\u001b[43mstep\u001b[49m\u001b[43m)\u001b[49m\n\u001b[1;32m     25\u001b[0m     \u001b[38;5;28;01mif\u001b[39;00m check_stability(m)\u001b[38;5;241m==\u001b[39m\u001b[38;5;28;01mFalse\u001b[39;00m:\n\u001b[1;32m     26\u001b[0m         \u001b[38;5;28mprint\u001b[39m(\u001b[38;5;124m'\u001b[39m\u001b[38;5;124mnum=\u001b[39m\u001b[38;5;124m'\u001b[39m, h)\n",
      "Input \u001b[0;32mIn [6]\u001b[0m, in \u001b[0;36mnNumber\u001b[0;34m(G, r, step)\u001b[0m\n\u001b[1;32m     19\u001b[0m ch\u001b[38;5;241m=\u001b[39mrandom\u001b[38;5;241m.\u001b[39msample(M,\u001b[38;5;241m1\u001b[39m)\n\u001b[1;32m     20\u001b[0m NE\u001b[38;5;241m=\u001b[39m[n \u001b[38;5;28;01mfor\u001b[39;00m n \u001b[38;5;129;01min\u001b[39;00m G\u001b[38;5;241m.\u001b[39mneighbors(ch[\u001b[38;5;241m0\u001b[39m])]\n\u001b[0;32m---> 21\u001b[0m chh\u001b[38;5;241m=\u001b[39m\u001b[43mrandom\u001b[49m\u001b[38;5;241;43m.\u001b[39;49m\u001b[43msample\u001b[49m\u001b[43m(\u001b[49m\u001b[43mNE\u001b[49m\u001b[43m,\u001b[49m\u001b[38;5;241;43m1\u001b[39;49m\u001b[43m)\u001b[49m\n\u001b[1;32m     22\u001b[0m \u001b[38;5;28;01mif\u001b[39;00m chh[\u001b[38;5;241m0\u001b[39m]  \u001b[38;5;129;01min\u001b[39;00m R:\n\u001b[1;32m     23\u001b[0m     M\u001b[38;5;241m.\u001b[39madd(chh[\u001b[38;5;241m0\u001b[39m])\n",
      "File \u001b[0;32m~/anaconda3/lib/python3.9/random.py:427\u001b[0m, in \u001b[0;36mRandom.sample\u001b[0;34m(self, population, k, counts)\u001b[0m\n\u001b[1;32m    375\u001b[0m \u001b[38;5;124;03m\"\"\"Chooses k unique random elements from a population sequence or set.\u001b[39;00m\n\u001b[1;32m    376\u001b[0m \n\u001b[1;32m    377\u001b[0m \u001b[38;5;124;03mReturns a new list containing elements from the population while\u001b[39;00m\n\u001b[0;32m   (...)\u001b[0m\n\u001b[1;32m    401\u001b[0m \n\u001b[1;32m    402\u001b[0m \u001b[38;5;124;03m\"\"\"\u001b[39;00m\n\u001b[1;32m    404\u001b[0m \u001b[38;5;66;03m# Sampling without replacement entails tracking either potential\u001b[39;00m\n\u001b[1;32m    405\u001b[0m \u001b[38;5;66;03m# selections (the pool) in a list or previous selections in a set.\u001b[39;00m\n\u001b[1;32m    406\u001b[0m \n\u001b[0;32m   (...)\u001b[0m\n\u001b[1;32m    424\u001b[0m \u001b[38;5;66;03m# too many calls to _randbelow(), making them slower and\u001b[39;00m\n\u001b[1;32m    425\u001b[0m \u001b[38;5;66;03m# causing them to eat more entropy than necessary.\u001b[39;00m\n\u001b[0;32m--> 427\u001b[0m \u001b[38;5;28;01mif\u001b[39;00m \u001b[38;5;28;43misinstance\u001b[39;49m\u001b[43m(\u001b[49m\u001b[43mpopulation\u001b[49m\u001b[43m,\u001b[49m\u001b[43m \u001b[49m\u001b[43m_Set\u001b[49m\u001b[43m)\u001b[49m:\n\u001b[1;32m    428\u001b[0m     _warn(\u001b[38;5;124m'\u001b[39m\u001b[38;5;124mSampling from a set deprecated\u001b[39m\u001b[38;5;130;01m\\n\u001b[39;00m\u001b[38;5;124m'\u001b[39m\n\u001b[1;32m    429\u001b[0m           \u001b[38;5;124m'\u001b[39m\u001b[38;5;124msince Python 3.9 and will be removed in a subsequent version.\u001b[39m\u001b[38;5;124m'\u001b[39m,\n\u001b[1;32m    430\u001b[0m           \u001b[38;5;167;01mDeprecationWarning\u001b[39;00m, \u001b[38;5;241m2\u001b[39m)\n\u001b[1;32m    431\u001b[0m     population \u001b[38;5;241m=\u001b[39m \u001b[38;5;28mtuple\u001b[39m(population)\n",
      "File \u001b[0;32m~/anaconda3/lib/python3.9/abc.py:119\u001b[0m, in \u001b[0;36mABCMeta.__instancecheck__\u001b[0;34m(cls, instance)\u001b[0m\n\u001b[1;32m    117\u001b[0m \u001b[38;5;28;01mdef\u001b[39;00m \u001b[38;5;21m__instancecheck__\u001b[39m(\u001b[38;5;28mcls\u001b[39m, instance):\n\u001b[1;32m    118\u001b[0m     \u001b[38;5;124;03m\"\"\"Override for isinstance(instance, cls).\"\"\"\u001b[39;00m\n\u001b[0;32m--> 119\u001b[0m     \u001b[38;5;28;01mreturn\u001b[39;00m \u001b[43m_abc_instancecheck\u001b[49m\u001b[43m(\u001b[49m\u001b[38;5;28;43mcls\u001b[39;49m\u001b[43m,\u001b[49m\u001b[43m \u001b[49m\u001b[43minstance\u001b[49m\u001b[43m)\u001b[49m\n",
      "\u001b[0;31mKeyboardInterrupt\u001b[0m: "
     ]
    }
   ],
   "source": [
    "t1=time.time()\n",
    "num=300\n",
    "step=100000\n",
    "size=500\n",
    "r=3\n",
    "start=750;end=1000\n",
    "no_graph=np.arange(start,end)\n",
    "fix_time_total=[]\n",
    "ext_time_total=[]\n",
    "#G_tot=[];\n",
    "#M=[]\n",
    "for j in (no_graph):\n",
    "    mm=[]\n",
    "    #mm=np.zeros(num*step)\n",
    "    fix_time=[];ext_time=[]\n",
    "\n",
    "    A=np.loadtxt('G'+str(j)+'.txt')    \n",
    "    G=nx.from_numpy_array(A,create_using=nx.Graph())  \n",
    "\n",
    "    for h in range (num):\n",
    "        #print('h=',h)\n",
    "\n",
    "        t,m=nNumber(G,r,step)\n",
    "        \n",
    "        if check_stability(m)==False:\n",
    "            print('num=', h)\n",
    "            print('no=', j)\n",
    "        \n",
    "        #mm[0:step]=m\n",
    "        mm.append(m)\n",
    "        if m[-1]==1:\n",
    "            for tt in range (len(m)):\n",
    "                if m[tt]==m[-1]:\n",
    "                    fix_time.append(tt)\n",
    "                    break\n",
    "            \n",
    "        elif m[-1]==0:\n",
    "            for tt in range (len(m)):\n",
    "                if m[tt]==m[-1]:\n",
    "                    ext_time.append(tt)\n",
    "                    break\n",
    "    M_avg=mm[0]                      \n",
    "    for muts in mm[1:]:\n",
    "        M_avg=muts+M_avg\n",
    "    M_avg=M_avg/num\n",
    "    np.savetxt('M_avg'+str(j)+'.dat',M_avg)\n",
    "    np.savetxt('fixtime_r3_'+str(j)+'.dat',np.array(fix_time))\n",
    "    np.savetxt('exttime_r3_'+str(j)+'.dat',np.array(ext_time))\n",
    "    #M.append(mm)\n",
    "    \n",
    "#np.savetxt('fixation'+str(start)+'-'+str(end)+'.dat',fix_time_total)\n",
    "#np.savetxt('extinction'+str(start)+'-'+str(end)+'.dat',ext_time_total)\n",
    "t2=time.time()"
   ]
  },
  {
   "cell_type": "code",
   "execution_count": 12,
   "metadata": {},
   "outputs": [
    {
     "data": {
      "image/png": "[encoded data removed]",
      "text/plain": [
       "<Figure size 432x288 with 1 Axes>"
      ]
     },
     "metadata": {
      "needs_background": "light"
     },
     "output_type": "display_data"
    },
    {
     "data": {
      "image/png": "[encoded data removed]",
      "text/plain": [
       "<Figure size 432x288 with 1 Axes>"
      ]
     },
     "metadata": {
      "needs_background": "light"
     },
     "output_type": "display_data"
    },
    {
     "data": {
      "image/png": "[encoded data removed]",
      "text/plain": [
       "<Figure size 432x288 with 1 Axes>"
      ]
     },
     "metadata": {
      "needs_background": "light"
     },
     "output_type": "display_data"
    },
    {
     "data": {
      "image/png": "[encoded data removed]",
      "text/plain": [
       "<Figure size 432x288 with 1 Axes>"
      ]
     },
     "metadata": {
      "needs_background": "light"
     },
     "output_type": "display_data"
    },
    {
     "data": {
      "image/png": "[encoded data removed]",
      "text/plain": [
       "<Figure size 432x288 with 1 Axes>"
      ]
     },
     "metadata": {
      "needs_background": "light"
     },
     "output_type": "display_data"
    },
    {
     "data": {
      "image/png": "[encoded data removed]",
      "text/plain": [
       "<Figure size 432x288 with 1 Axes>"
      ]
     },
     "metadata": {
      "needs_background": "light"
     },
     "output_type": "display_data"
    },
    {
     "data": {
      "image/png": "[encoded data removed]",
      "text/plain": [
       "<Figure size 432x288 with 1 Axes>"
      ]
     },
     "metadata": {
      "needs_background": "light"
     },
     "output_type": "display_data"
    },
    {
     "data": {
      "image/png": "[encoded data removed]",
      "text/plain": [
       "<Figure size 432x288 with 1 Axes>"
      ]
     },
     "metadata": {
      "needs_background": "light"
     },
     "output_type": "display_data"
    },
    {
     "data": {
      "image/png": "[encoded data removed]",
      "text/plain": [
       "<Figure size 432x288 with 1 Axes>"
      ]
     },
     "metadata": {
      "needs_background": "light"
     },
     "output_type": "display_data"
    },
    {
     "data": {
      "image/png": "[encoded data removed]",
      "text/plain": [
       "<Figure size 432x288 with 1 Axes>"
      ]
     },
     "metadata": {
      "needs_background": "light"
     },
     "output_type": "display_data"
    }
   ],
   "source": [
    "for k in range(10):\n",
    "    plt.plot(M[0][k])\n",
    "    plt.show()"
   ]
  },
  {
   "cell_type": "code",
   "execution_count": 25,
   "metadata": {},
   "outputs": [
    {
     "name": "stdout",
     "output_type": "stream",
     "text": [
      "47913.43322610855\n"
     ]
    }
   ],
   "source": [
    "print(t2-t1)"
   ]
  },
  {
   "cell_type": "code",
   "execution_count": 26,
   "metadata": {},
   "outputs": [
    {
     "data": {
      "text/plain": [
       "[<matplotlib.lines.Line2D at 0x7fefd4969d00>]"
      ]
     },
     "execution_count": 26,
     "metadata": {},
     "output_type": "execute_result"
    },
    {
     "data": {
      "image/png": "[encoded data removed]",
      "text/plain": [
       "<Figure size 432x288 with 1 Axes>"
      ]
     },
     "metadata": {
      "needs_background": "light"
     },
     "output_type": "display_data"
    }
   ],
   "source": [
    "plt.plot(M_avg)"
   ]
  },
  {
   "cell_type": "code",
   "execution_count": 31,
   "metadata": {},
   "outputs": [],
   "source": [
    "mean3=[]\n",
    "for q in fix_time_total:\n",
    "    mean3.append(np.sum(q)/len(q))\n",
    "np.savetxt('qmean3-750-1000.txt',mean3)"
   ]
  },
  {
   "cell_type": "code",
   "execution_count": 4,
   "metadata": {},
   "outputs": [
    {
     "name": "stderr",
     "output_type": "stream",
     "text": [
      "/tmp/ipykernel_206491/1759016155.py:1: UserWarning: loadtxt: Empty input file: \"fmean3-0-250.txt\"\n",
      "  q1=np.loadtxt('fmean3-0-250.txt')\n",
      "/tmp/ipykernel_206491/1759016155.py:2: UserWarning: loadtxt: Empty input file: \"fmean3-250-500.txt\"\n",
      "  q2=np.loadtxt('fmean3-250-500.txt')\n",
      "/tmp/ipykernel_206491/1759016155.py:3: UserWarning: loadtxt: Empty input file: \"fmean3-500-750.txt\"\n",
      "  q3=np.loadtxt('fmean3-500-750.txt')\n",
      "/tmp/ipykernel_206491/1759016155.py:4: UserWarning: loadtxt: Empty input file: \"fmean3-750-1000.txt\"\n",
      "  q4=np.loadtxt('fmean3-750-1000.txt')\n"
     ]
    }
   ],
   "source": [
    "q1=np.loadtxt('fmean3-0-250.txt')\n",
    "q2=np.loadtxt('fmean3-250-500.txt')\n",
    "q3=np.loadtxt('fmean3-500-750.txt')\n",
    "q4=np.loadtxt('fmean3-750-1000.txt')"
   ]
  },
  {
   "cell_type": "code",
   "execution_count": 33,
   "metadata": {},
   "outputs": [
    {
     "data": {
      "text/plain": [
       "0"
      ]
     },
     "execution_count": 33,
     "metadata": {},
     "output_type": "execute_result"
    }
   ],
   "source": [
    "len(fix_time_total)"
   ]
  },
  {
   "cell_type": "code",
   "execution_count": 34,
   "metadata": {},
   "outputs": [
    {
     "data": {
      "text/plain": [
       "204"
      ]
     },
     "execution_count": 34,
     "metadata": {},
     "output_type": "execute_result"
    }
   ],
   "source": [
    "len(fix_time)"
   ]
  },
  {
   "cell_type": "code",
   "execution_count": 35,
   "metadata": {},
   "outputs": [
    {
     "data": {
      "text/plain": [
       "96"
      ]
     },
     "execution_count": 35,
     "metadata": {},
     "output_type": "execute_result"
    }
   ],
   "source": [
    "len(ext_time)"
   ]
  },
  {
   "cell_type": "code",
   "execution_count": 5,
   "metadata": {},
   "outputs": [],
   "source": [
    "test_fix=[]\n",
    "for i in range (1000):\n",
    "    test_fix.append(np.loadtxt('fixtime_r3_'+str(i)+'.dat'))"
   ]
  },
  {
   "cell_type": "code",
   "execution_count": 6,
   "metadata": {},
   "outputs": [
    {
     "data": {
      "text/plain": [
       "211"
      ]
     },
     "execution_count": 6,
     "metadata": {},
     "output_type": "execute_result"
    }
   ],
   "source": [
    "len(test_fix[0])"
   ]
  },
  {
   "cell_type": "code",
   "execution_count": 7,
   "metadata": {},
   "outputs": [],
   "source": [
    "f3_mean=[]\n",
    "for f in test_fix:\n",
    "    f3_mean.append(np.sum(f)/len(f))"
   ]
  },
  {
   "cell_type": "code",
   "execution_count": 8,
   "metadata": {},
   "outputs": [
    {
     "data": {
      "text/plain": [
       "1000"
      ]
     },
     "execution_count": 8,
     "metadata": {},
     "output_type": "execute_result"
    }
   ],
   "source": [
    "len(f3_mean)"
   ]
  },
  {
   "cell_type": "code",
   "execution_count": 9,
   "metadata": {},
   "outputs": [
    {
     "data": {
      "text/plain": [
       "Text(0, 0.5, 'fixation time_r3')"
      ]
     },
     "execution_count": 9,
     "metadata": {},
     "output_type": "execute_result"
    },
    {
     "data": {
      "image/png": "[encoded data removed]",
      "text/plain": [
       "<Figure size 432x288 with 1 Axes>"
      ]
     },
     "metadata": {
      "needs_background": "light"
     },
     "output_type": "display_data"
    }
   ],
   "source": [
    "plt.plot(f3_mean)\n",
    "plt.xlabel('number of added edges to graph');plt.ylabel('fixation time_r3')"
   ]
  },
  {
   "cell_type": "code",
   "execution_count": 10,
   "metadata": {},
   "outputs": [
    {
     "data": {
      "text/plain": [
       "[147452.17535545025,\n",
       " 142917.96208530807,\n",
       " 96202.44549763034,\n",
       " 87916.69483568076,\n",
       " 79623.74509803922,\n",
       " 75270.38888888889,\n",
       " 75305.10328638498,\n",
       " 75436.69035532995,\n",
       " 62349.18348623853,\n",
       " 60994.01442307692,\n",
       " 57998.692307692305,\n",
       " 57737.586854460096,\n",
       " 58640.89175257732,\n",
       " 57556.8064516129,\n",
       " 57201.53431372549,\n",
       " 56029.99033816425,\n",
       " 55909.44041450777,\n",
       " 52682.65048543689,\n",
       " 51462.78217821782,\n",
       " 50855.08571428571,\n",
       " 52621.97129186603,\n",
       " 51277.83084577115,\n",
       " 49391.17840375587,\n",
       " 48741.0,\n",
       " 48259.70506912442,\n",
       " 47992.45327102804,\n",
       " 46502.28217821782,\n",
       " 44715.08571428571,\n",
       " 45746.58823529412,\n",
       " 45236.60368663594,\n",
       " 45120.98484848485,\n",
       " 44641.11009174312,\n",
       " 44095.93969849246,\n",
       " 44216.42639593909,\n",
       " 43477.12182741117,\n",
       " 43548.14027149321,\n",
       " 43287.89705882353,\n",
       " 44095.96860986547,\n",
       " 43384.293023255814,\n",
       " 42964.41176470588,\n",
       " 43943.05641025641,\n",
       " 42421.58293838862,\n",
       " 42873.92270531401,\n",
       " 42203.60091743119,\n",
       " 42405.51256281407,\n",
       " 42527.30275229358,\n",
       " 42533.64179104478,\n",
       " 41364.63981042654,\n",
       " 42138.42788461538,\n",
       " 41754.87614678899,\n",
       " 41518.10344827586,\n",
       " 42025.58762886598,\n",
       " 41626.16113744076,\n",
       " 41008.739130434784,\n",
       " 41804.41747572816,\n",
       " 40737.354368932036,\n",
       " 39497.90306122449,\n",
       " 39146.40182648402,\n",
       " 39232.41981132075,\n",
       " 38992.20952380952,\n",
       " 38387.11961722488,\n",
       " 39294.362790697676,\n",
       " 38106.93908629441,\n",
       " 38444.36842105263,\n",
       " 37755.10837438424,\n",
       " 37339.394230769234,\n",
       " 37881.05940594059,\n",
       " 37488.53299492386,\n",
       " 38005.029411764706,\n",
       " 37617.31746031746,\n",
       " 37484.55348837209,\n",
       " 37754.67289719626,\n",
       " 37024.474178403754,\n",
       " 35787.46700507614,\n",
       " 36296.251184834124,\n",
       " 36003.91428571429,\n",
       " 35431.03553299492,\n",
       " 35702.75862068965,\n",
       " 36014.56807511737,\n",
       " 35398.852040816324,\n",
       " 34002.98591549296,\n",
       " 34472.118226600986,\n",
       " 34383.07109004739,\n",
       " 34486.142857142855,\n",
       " 33667.97607655502,\n",
       " 33582.063725490196,\n",
       " 33913.47263681592,\n",
       " 33784.37373737374,\n",
       " 32587.1164021164,\n",
       " 32404.587677725118,\n",
       " 33695.88262910798,\n",
       " 33793.358744394616,\n",
       " 33207.013824884794,\n",
       " 32615.51690821256,\n",
       " 32727.094527363184,\n",
       " 32640.78391959799,\n",
       " 31858.049019607843,\n",
       " 33015.30927835051,\n",
       " 32007.039408866996,\n",
       " 32114.353233830847,\n",
       " 32515.130841121496,\n",
       " 32221.572093023256,\n",
       " 32185.206572769952,\n",
       " 31854.354066985645,\n",
       " 32291.915492957745,\n",
       " 31857.925742574258,\n",
       " 31803.454106280195,\n",
       " 31552.22380952381,\n",
       " 31506.234146341463,\n",
       " 31855.46818181818,\n",
       " 31706.595,\n",
       " 32339.480952380953,\n",
       " 31623.518348623853,\n",
       " 31215.738095238095,\n",
       " 31522.938095238096,\n",
       " 30714.701570680627,\n",
       " 31243.062801932367,\n",
       " 30731.430693069306,\n",
       " 30974.131707317072,\n",
       " 31445.78672985782,\n",
       " 31152.8078817734,\n",
       " 32139.746268656716,\n",
       " 31312.892156862745,\n",
       " 31135.059113300493,\n",
       " 30964.331818181818,\n",
       " 31316.015625,\n",
       " 30957.78341013825,\n",
       " 30244.018348623853,\n",
       " 30807.824390243903,\n",
       " 30843.164383561645,\n",
       " 30687.61951219512,\n",
       " 30772.17910447761,\n",
       " 30364.953846153847,\n",
       " 31401.66964285714,\n",
       " 30074.283018867925,\n",
       " 30072.219047619048,\n",
       " 30006.256281407033,\n",
       " 29731.141463414635,\n",
       " 30232.55023923445,\n",
       " 30300.6018957346,\n",
       " 29971.861386138615,\n",
       " 29370.140096618357,\n",
       " 29658.845794392524,\n",
       " 29646.831683168315,\n",
       " 28979.531100478467,\n",
       " 29268.480952380953,\n",
       " 28987.895,\n",
       " 29394.014084507042,\n",
       " 28432.121827411167,\n",
       " 29046.04954954955,\n",
       " 28575.903846153848,\n",
       " 28995.072463768116,\n",
       " 29201.616822429907,\n",
       " 28009.264423076922,\n",
       " 28979.428571428572,\n",
       " 28116.4,\n",
       " 29757.153110047846,\n",
       " 29165.623853211007,\n",
       " 28370.48275862069,\n",
       " 28368.572115384617,\n",
       " 27523.281914893618,\n",
       " 28212.75,\n",
       " 27736.51776649746,\n",
       " 27485.748768472906,\n",
       " 27365.295,\n",
       " 27525.731343283584,\n",
       " 27645.601990049752,\n",
       " 27534.614285714284,\n",
       " 27841.848484848484,\n",
       " 27622.489361702126,\n",
       " 27860.66346153846,\n",
       " 27165.919786096256,\n",
       " 27468.485294117647,\n",
       " 27027.08173076923,\n",
       " 27192.365,\n",
       " 28014.361809045226,\n",
       " 26561.023255813954,\n",
       " 27432.757009345794,\n",
       " 26642.124378109453,\n",
       " 26448.420792079207,\n",
       " 27444.79146919431,\n",
       " 27040.535,\n",
       " 26898.247572815533,\n",
       " 27176.5,\n",
       " 27395.131221719457,\n",
       " 26426.203125,\n",
       " 27375.72380952381,\n",
       " 26736.984848484848,\n",
       " 27205.867346938776,\n",
       " 25894.11374407583,\n",
       " 26269.445,\n",
       " 26001.43203883495,\n",
       " 25539.13,\n",
       " 27321.52606635071,\n",
       " 25830.85436893204,\n",
       " 26137.10824742268,\n",
       " 26367.330188679247,\n",
       " 26309.80751173709,\n",
       " 25808.18536585366,\n",
       " 25841.6,\n",
       " 25867.48181818182,\n",
       " 25320.063725490196,\n",
       " 26261.10138248848,\n",
       " 25673.62,\n",
       " 25279.351485148516,\n",
       " 25288.54773869347,\n",
       " 26365.906403940888,\n",
       " 26004.815384615384,\n",
       " 26377.151515151516,\n",
       " 26214.598086124402,\n",
       " 25322.3133640553,\n",
       " 25193.431472081218,\n",
       " 25301.36842105263,\n",
       " 25860.781553398057,\n",
       " 25417.306976744185,\n",
       " 25065.384615384617,\n",
       " 24982.19387755102,\n",
       " 25358.4776119403,\n",
       " 25433.11,\n",
       " 25634.855072463768,\n",
       " 25765.004926108373,\n",
       " 25635.811320754718,\n",
       " 25635.143540669855,\n",
       " 26243.898550724636,\n",
       " 25941.286384976527,\n",
       " 25670.57476635514,\n",
       " 25364.06796116505,\n",
       " 25768.626865671642,\n",
       " 23935.746192893403,\n",
       " 24856.649746192892,\n",
       " 25376.128205128207,\n",
       " 25567.725,\n",
       " 25488.611650485436,\n",
       " 25476.3631840796,\n",
       " 25453.492822966506,\n",
       " 24923.50234741784,\n",
       " 25343.82125603865,\n",
       " 25463.910447761195,\n",
       " 24665.65024630542,\n",
       " 24971.32057416268,\n",
       " 24831.154639175256,\n",
       " 24469.277777777777,\n",
       " 24395.980392156864,\n",
       " 24604.46907216495,\n",
       " 25155.914285714287,\n",
       " 25577.121827411167,\n",
       " 25195.721698113208,\n",
       " 24475.33823529412,\n",
       " 24756.58549222798,\n",
       " 24281.353233830847,\n",
       " 25153.83769633508,\n",
       " 25264.546341463414,\n",
       " 24418.81818181818,\n",
       " 25145.47263681592,\n",
       " 24947.225490196077,\n",
       " 25311.85714285714,\n",
       " 24618.304347826088,\n",
       " 25073.838541666668,\n",
       " 24226.645161290322,\n",
       " 23965.825,\n",
       " 24664.93301435407,\n",
       " 24057.686274509804,\n",
       " 24656.0625,\n",
       " 24176.444444444445,\n",
       " 24619.52380952381,\n",
       " 24004.167441860463,\n",
       " 24573.242105263158,\n",
       " 24358.68075117371,\n",
       " 23613.79203539823,\n",
       " 24007.871134020617,\n",
       " 24044.381188118812,\n",
       " 24534.039408866996,\n",
       " 24441.995283018867,\n",
       " 24051.169082125605,\n",
       " 24461.259615384617,\n",
       " 24236.266009852217,\n",
       " 24657.087378640776,\n",
       " 23924.209677419356,\n",
       " 24657.44600938967,\n",
       " 24503.033492822968,\n",
       " 24352.26767676768,\n",
       " 24263.61274509804,\n",
       " 25202.741293532337,\n",
       " 24605.018691588786,\n",
       " 24144.061855670105,\n",
       " 24760.920930232558,\n",
       " 23136.025510204083,\n",
       " 24254.154639175256,\n",
       " 24952.140845070422,\n",
       " 24111.10606060606,\n",
       " 24231.08173076923,\n",
       " 22707.745,\n",
       " 24059.902564102566,\n",
       " 23844.146226415094,\n",
       " 23828.73113207547,\n",
       " 24324.175,\n",
       " 25079.58910891089,\n",
       " 24402.326424870465,\n",
       " 24408.5175879397,\n",
       " 24577.47596153846,\n",
       " 23960.85714285714,\n",
       " 24210.325,\n",
       " 24350.927184466018,\n",
       " 24608.99526066351,\n",
       " 24569.15736040609,\n",
       " 24324.0,\n",
       " 24284.82843137255,\n",
       " 24023.509523809524,\n",
       " 24399.351485148516,\n",
       " 23793.12254901961,\n",
       " 23924.174757281555,\n",
       " 23932.406862745098,\n",
       " 23079.5,\n",
       " 23531.31308411215,\n",
       " 23335.333333333332,\n",
       " 23779.71497584541,\n",
       " 23778.930348258706,\n",
       " 23903.456989247312,\n",
       " 23106.668393782384,\n",
       " 23381.79891304348,\n",
       " 23225.871287128713,\n",
       " 23678.831775700935,\n",
       " 23882.47263681592,\n",
       " 23581.0,\n",
       " 24127.520833333332,\n",
       " 23677.882653061224,\n",
       " 24562.81603773585,\n",
       " 23343.984771573603,\n",
       " 23916.6358974359,\n",
       " 23839.124423963134,\n",
       " 23516.55238095238,\n",
       " 23290.20297029703,\n",
       " 23860.185,\n",
       " 23001.578680203045,\n",
       " 23797.60476190476,\n",
       " 23472.567708333332,\n",
       " 24066.20634920635,\n",
       " 24223.50505050505,\n",
       " 23857.238805970148,\n",
       " 23472.333333333332,\n",
       " 24680.82380952381,\n",
       " 24266.843434343435,\n",
       " 23891.79716981132,\n",
       " 23056.95673076923,\n",
       " 22801.613526570047,\n",
       " 24223.730964467006,\n",
       " 24033.015,\n",
       " 24402.08530805687,\n",
       " 23727.94581280788,\n",
       " 23555.863849765257,\n",
       " 23503.158653846152,\n",
       " 23445.156565656565,\n",
       " 24017.44976076555,\n",
       " 23444.646766169153,\n",
       " 23026.704225352114,\n",
       " 23325.177033492822,\n",
       " 23653.051643192488,\n",
       " 23930.359375,\n",
       " 23449.813829787236,\n",
       " 23366.92924528302,\n",
       " 23285.725806451614,\n",
       " 23625.663366336634,\n",
       " 24020.585365853658,\n",
       " 23693.60101010101,\n",
       " 23692.918367346938,\n",
       " 23907.746268656716,\n",
       " 23711.696969696968,\n",
       " 23395.257142857143,\n",
       " 23060.197916666668,\n",
       " 23710.848484848484,\n",
       " 23435.748792270533,\n",
       " 22321.848958333332,\n",
       " 23204.25806451613,\n",
       " 22872.316326530614,\n",
       " 22851.641791044774,\n",
       " 22215.967441860466,\n",
       " 23770.0,\n",
       " 23316.950980392157,\n",
       " 23463.29591836735,\n",
       " 22863.88780487805,\n",
       " 22724.487562189053,\n",
       " 23612.271844660194,\n",
       " 22250.247524752474,\n",
       " 22559.769585253456,\n",
       " 23062.3184079602,\n",
       " 22982.004784688994,\n",
       " 21852.66515837104,\n",
       " 22900.94527363184,\n",
       " 23007.60696517413,\n",
       " 22413.385416666668,\n",
       " 22581.594202898552,\n",
       " 22499.047846889953,\n",
       " 22481.079601990048,\n",
       " 22566.572815533982,\n",
       " 22207.61650485437,\n",
       " 22548.160975609757,\n",
       " 22357.857843137255,\n",
       " 21814.839024390243,\n",
       " 22195.75376884422,\n",
       " 21817.440594059404,\n",
       " 21930.03317535545,\n",
       " 22195.39719626168,\n",
       " 22212.268292682926,\n",
       " 22161.70616113744,\n",
       " 22455.276699029127,\n",
       " 22312.094786729856,\n",
       " 22701.88780487805,\n",
       " 23341.990476190476,\n",
       " 22273.0,\n",
       " 22678.202898550724,\n",
       " 23404.236714975847,\n",
       " 23059.28502415459,\n",
       " 22758.171717171717,\n",
       " 22452.03092783505,\n",
       " 22439.243781094527,\n",
       " 22437.549295774646,\n",
       " 22481.12626262626,\n",
       " 22136.63157894737,\n",
       " 21495.244019138758,\n",
       " 22400.180555555555,\n",
       " 22474.65581395349,\n",
       " 22340.624390243902,\n",
       " 22271.068965517243,\n",
       " 22202.89393939394,\n",
       " 22534.39893617021,\n",
       " 22510.98514851485,\n",
       " 22701.825870646768,\n",
       " 21970.980487804878,\n",
       " 22228.268656716416,\n",
       " 22648.695,\n",
       " 22959.072538860102,\n",
       " 22378.158163265307,\n",
       " 23008.32338308458,\n",
       " 22421.3981042654,\n",
       " 22014.72857142857,\n",
       " 22640.383838383837,\n",
       " 21934.48275862069,\n",
       " 22439.607655502394,\n",
       " 21316.963157894737,\n",
       " 22584.811881188118,\n",
       " 22326.31067961165,\n",
       " 21952.67757009346,\n",
       " 22135.09375,\n",
       " 22017.425,\n",
       " 21930.71782178218,\n",
       " 22501.094786729856,\n",
       " 21893.23786407767,\n",
       " 22503.351485148516,\n",
       " 22085.94660194175,\n",
       " 21756.48598130841,\n",
       " 21376.780612244896,\n",
       " 20742.682926829268,\n",
       " 22886.764423076922,\n",
       " 21587.336633663366,\n",
       " 22470.859296482413,\n",
       " 21483.58962264151,\n",
       " 21482.383177570093,\n",
       " 21492.402985074626,\n",
       " 21651.65071770335,\n",
       " 21205.995145631066,\n",
       " 22565.407960199005,\n",
       " 22532.48113207547,\n",
       " 23167.616822429907,\n",
       " 21956.193717277485,\n",
       " 21404.295566502464,\n",
       " 21885.066326530614,\n",
       " 22352.348039215685,\n",
       " 21547.54106280193,\n",
       " 21119.740384615383,\n",
       " 21521.843434343435,\n",
       " 21243.917050691245,\n",
       " 21365.190476190477,\n",
       " 21075.3981042654,\n",
       " 21316.953846153847,\n",
       " 20674.985849056604,\n",
       " 21683.76388888889,\n",
       " 21398.471962616823,\n",
       " 21051.306976744185,\n",
       " 21227.4,\n",
       " 20979.439393939392,\n",
       " 21085.671497584543,\n",
       " 20728.397959183672,\n",
       " 21211.905660377357,\n",
       " 21142.31553398058,\n",
       " 21710.923423423425,\n",
       " 20314.716346153848,\n",
       " 21352.56783919598,\n",
       " 21847.881188118812,\n",
       " 20878.14285714286,\n",
       " 21765.4797979798,\n",
       " 21517.415,\n",
       " 21632.29797979798,\n",
       " 21333.772277227723,\n",
       " 21414.553921568626,\n",
       " 21161.28205128205,\n",
       " 21271.17948717949,\n",
       " 19664.183098591548,\n",
       " 21363.459821428572,\n",
       " 20387.493023255814,\n",
       " 20549.80769230769,\n",
       " 21013.075757575756,\n",
       " 21147.542056074766,\n",
       " 20529.41904761905,\n",
       " 21351.145728643216,\n",
       " 21894.256157635467,\n",
       " 20902.881818181817,\n",
       " 21248.32512315271,\n",
       " 22215.413265306124,\n",
       " 21804.11214953271,\n",
       " 21542.29081632653,\n",
       " 21580.180904522615,\n",
       " 20797.97512437811,\n",
       " 21411.562814070352,\n",
       " 20515.720930232557,\n",
       " 20901.217391304348,\n",
       " 20870.866972477063,\n",
       " 22344.952631578948,\n",
       " 21795.460396039605,\n",
       " 22294.108374384236,\n",
       " 21229.188118811882,\n",
       " 20349.963133640555,\n",
       " 20625.0206185567,\n",
       " 21162.263414634148,\n",
       " 21398.46192893401,\n",
       " 20544.70616113744,\n",
       " 21484.360576923078,\n",
       " 20942.854922279792,\n",
       " 20026.067357512955,\n",
       " 21769.68544600939,\n",
       " 20810.11707317073,\n",
       " 20163.926829268294,\n",
       " 20804.347619047618,\n",
       " 20709.164102564104,\n",
       " 21445.534562211982,\n",
       " 21284.05213270142,\n",
       " 21339.09661835749,\n",
       " 20852.82564102564,\n",
       " 20405.846534653465,\n",
       " 20615.463414634145,\n",
       " 20617.19523809524,\n",
       " 21319.960199004974,\n",
       " 22125.502590673575,\n",
       " 21015.385416666668,\n",
       " 20480.839805825242,\n",
       " 20462.47474747475,\n",
       " 21408.81463414634,\n",
       " 20617.952153110047,\n",
       " 20982.424731182797,\n",
       " 20966.04433497537,\n",
       " 20802.424528301886,\n",
       " 20616.24226804124,\n",
       " 21782.859903381643,\n",
       " 21172.56862745098,\n",
       " 20328.221153846152,\n",
       " 20618.44549763033,\n",
       " 20480.18407960199,\n",
       " 20319.323529411766,\n",
       " 20549.5,\n",
       " 21294.986175115206,\n",
       " 22637.6,\n",
       " 21621.17,\n",
       " 20970.13,\n",
       " 20491.06334841629,\n",
       " 20996.478494623654,\n",
       " 21038.924170616112,\n",
       " 21251.712765957447,\n",
       " 20568.056872037916,\n",
       " 21074.369158878504,\n",
       " 20055.752427184467,\n",
       " 20235.635922330097,\n",
       " 20991.487684729065,\n",
       " 20583.79695431472,\n",
       " 21209.643902439024,\n",
       " 20621.618090452263,\n",
       " 21680.835680751174,\n",
       " 20463.39512195122,\n",
       " 21111.72864321608,\n",
       " 21069.109004739337,\n",
       " 20330.634146341465,\n",
       " 20935.980487804878,\n",
       " 20089.779411764706,\n",
       " 20784.113989637306,\n",
       " 20165.24742268041,\n",
       " 21357.486910994765,\n",
       " 21000.212962962964,\n",
       " 20376.02427184466,\n",
       " 21238.752525252527,\n",
       " 21216.543689320388,\n",
       " 20379.769607843136,\n",
       " 20274.704761904763,\n",
       " 21113.805970149253,\n",
       " 20409.23618090452,\n",
       " 19861.305263157894,\n",
       " 20995.85576923077,\n",
       " 20151.0,\n",
       " 20017.27536231884,\n",
       " 20889.377880184333,\n",
       " 22276.08040201005,\n",
       " 20090.877551020407,\n",
       " 21764.199029126212,\n",
       " 19884.1164021164,\n",
       " 21052.903553299493,\n",
       " 20373.049261083743,\n",
       " 22010.14358974359,\n",
       " 20822.42654028436,\n",
       " 21955.62254901961,\n",
       " 19771.302752293577,\n",
       " 20593.815384615384,\n",
       " 21104.56157635468,\n",
       " 20760.38785046729,\n",
       " 21290.725,\n",
       " 21419.985436893203,\n",
       " 22055.82722513089,\n",
       " 19598.927184466018,\n",
       " 19064.83408071749,\n",
       " 19638.090425531915,\n",
       " 19981.038834951458,\n",
       " 19336.51530612245,\n",
       " 19297.91089108911,\n",
       " 18628.13775510204,\n",
       " 18922.91904761905,\n",
       " 19371.039800995026,\n",
       " 19246.064516129034,\n",
       " 18842.076923076922,\n",
       " 19661.995,\n",
       " 18952.119791666668,\n",
       " 19001.374384236453,\n",
       " 19343.369791666668,\n",
       " 19943.683060109288,\n",
       " 19450.616161616163,\n",
       " 19847.125603864733,\n",
       " 19180.043062200955,\n",
       " 18677.622448979593,\n",
       " 19738.303482587064,\n",
       " 18584.07981220657,\n",
       " 19271.195,\n",
       " 19485.28804347826,\n",
       " 18442.38349514563,\n",
       " 19666.901041666668,\n",
       " 19175.443349753696,\n",
       " 19090.31527093596,\n",
       " 18604.572916666668,\n",
       " 19207.523076923077,\n",
       " 18710.410256410258,\n",
       " 19023.84263959391,\n",
       " 19598.666666666668,\n",
       " 17981.646464646463,\n",
       " 18912.01388888889,\n",
       " 19039.821782178216,\n",
       " 19755.01463414634,\n",
       " 18515.973958333332,\n",
       " 19121.528205128205,\n",
       " 18965.114285714284,\n",
       " 18674.803921568626,\n",
       " 18842.302564102563,\n",
       " 18522.83243243243,\n",
       " 18041.147959183672,\n",
       " 18513.08695652174,\n",
       " 19304.68137254902,\n",
       " 18485.071794871794,\n",
       " 18503.484444444446,\n",
       " 18303.037914691944,\n",
       " 18337.582474226805,\n",
       " 19375.244791666668,\n",
       " 19372.035532994923,\n",
       " 17752.639423076922,\n",
       " 17594.87434554974,\n",
       " 17693.399061032866,\n",
       " 18325.147959183672,\n",
       " 17948.47,\n",
       " 17699.572972972972,\n",
       " 17365.82857142857,\n",
       " 18361.31313131313,\n",
       " 18431.02380952381,\n",
       " 17996.04109589041,\n",
       " 17990.126829268294,\n",
       " 18145.5,\n",
       " 18398.29756097561,\n",
       " 18859.268656716416,\n",
       " 17969.605633802817,\n",
       " 18002.330275229357,\n",
       " 19085.0,\n",
       " 17794.889473684212,\n",
       " 18901.065989847717,\n",
       " 18118.14351851852,\n",
       " 17506.54081632653,\n",
       " 18848.602150537634,\n",
       " 18630.660194174758,\n",
       " 18218.155660377357,\n",
       " 18246.869791666668,\n",
       " 17381.835051546394,\n",
       " 17607.107317073172,\n",
       " 18840.8995215311,\n",
       " 17874.953125,\n",
       " 18394.108374384236,\n",
       " 17705.698412698413,\n",
       " 18422.641791044774,\n",
       " 18496.333333333332,\n",
       " 18025.407582938387,\n",
       " 18490.26633165829,\n",
       " 17418.014285714286,\n",
       " 17746.700483091787,\n",
       " 17969.477272727272,\n",
       " 18031.026315789473,\n",
       " 17718.685990338163,\n",
       " 17286.243902439026,\n",
       " 18107.717391304348,\n",
       " 17826.52195121951,\n",
       " 17831.617647058825,\n",
       " 18239.175879396986,\n",
       " 17578.47572815534,\n",
       " 17858.16230366492,\n",
       " 17323.43269230769,\n",
       " 17137.052884615383,\n",
       " 17491.75647668394,\n",
       " 17560.861386138615,\n",
       " 17956.87019230769,\n",
       " 17785.845,\n",
       " 17574.14150943396,\n",
       " 18237.68181818182,\n",
       " 18203.433497536946,\n",
       " 17762.20895522388,\n",
       " 17424.048076923078,\n",
       " 18046.430051813473,\n",
       " 18113.78350515464,\n",
       " 18458.613402061856,\n",
       " 17544.463541666668,\n",
       " 18279.336585365854,\n",
       " 17649.97,\n",
       " 17952.289215686276,\n",
       " 17799.764705882353,\n",
       " 18598.10714285714,\n",
       " 17869.096153846152,\n",
       " 17720.515151515152,\n",
       " 18088.777777777777,\n",
       " 16719.968421052632,\n",
       " 16904.216346153848,\n",
       " 17197.707692307693,\n",
       " 17028.674311926607,\n",
       " 17387.106976744188,\n",
       " 16637.23181818182,\n",
       " 16391.90594059406,\n",
       " 16413.70202020202,\n",
       " 17519.08133971292,\n",
       " 17725.529411764706,\n",
       " 16774.487562189053,\n",
       " 17279.331658291456,\n",
       " 17907.86069651741,\n",
       " 17017.907692307694,\n",
       " 16862.908212560385,\n",
       " 17564.09574468085,\n",
       " 17144.964646464647,\n",
       " 17091.49494949495,\n",
       " 17329.487684729065,\n",
       " 16962.0,\n",
       " 17201.89552238806,\n",
       " 16929.218274111674,\n",
       " 17137.900943396227,\n",
       " 17355.266666666666,\n",
       " 17022.34825870647,\n",
       " 17116.54066985646,\n",
       " 17093.418367346938,\n",
       " 17162.88613861386,\n",
       " 16594.218905472637,\n",
       " 17257.412621359224,\n",
       " 16792.31683168317,\n",
       " 16962.883838383837,\n",
       " 17532.49756097561,\n",
       " 17630.295566502464,\n",
       " 16666.190476190477,\n",
       " 17456.17,\n",
       " 16500.303482587064,\n",
       " 16984.35576923077,\n",
       " 17495.54314720812,\n",
       " 17964.88,\n",
       " 17589.17525773196,\n",
       " 18146.936274509804,\n",
       " 17309.5625,\n",
       " 17250.44549763033,\n",
       " 17005.132352941175,\n",
       " 18294.091370558377,\n",
       " 16726.52195121951,\n",
       " 16715.33510638298,\n",
       " 16949.726368159205,\n",
       " 16923.099056603773,\n",
       " 16967.40099009901,\n",
       " 17057.539603960395,\n",
       " 17503.396907216495,\n",
       " 17049.666666666668,\n",
       " 17385.009615384617,\n",
       " 16762.078534031414,\n",
       " 16866.1261682243,\n",
       " 16562.689814814814,\n",
       " 17483.578680203045,\n",
       " 16782.245098039217,\n",
       " 17175.82383419689,\n",
       " 17290.18009478673,\n",
       " 17234.856459330145,\n",
       " 17470.506976744186,\n",
       " 17098.6875,\n",
       " 17003.540404040403,\n",
       " 17685.473684210527,\n",
       " 17024.318840579712,\n",
       " 16762.143564356436,\n",
       " 17117.615763546797,\n",
       " 17147.285714285714,\n",
       " 16819.975,\n",
       " 17084.38164251208,\n",
       " 17374.696335078534,\n",
       " 16840.668341708544,\n",
       " 17049.923076923078,\n",
       " 16747.571428571428,\n",
       " 17071.445544554455,\n",
       " 17498.853260869564,\n",
       " 16643.119047619046,\n",
       " 17201.852791878173,\n",
       " 17807.729468599035,\n",
       " 16628.321243523314,\n",
       " 17605.280952380952,\n",
       " 17142.831632653062,\n",
       " 17094.670050761422,\n",
       " 17277.574879227053,\n",
       " 17187.417840375587,\n",
       " 16361.683673469388,\n",
       " 17985.279187817257,\n",
       " 17426.517073170733,\n",
       " 17680.88,\n",
       " 16845.30476190476,\n",
       " 17135.83653846154,\n",
       " 17585.995098039217,\n",
       " 16984.336492890994,\n",
       " 16936.28502415459,\n",
       " 16687.970297029704,\n",
       " 17230.60621761658,\n",
       " 16169.78,\n",
       " 16396.894472361808,\n",
       " 16271.51923076923,\n",
       " 16504.62895927602,\n",
       " 16330.88717948718,\n",
       " 16610.05339805825,\n",
       " 15640.848341232228,\n",
       " 16504.48514851485,\n",
       " 17129.214659685866,\n",
       " 16970.99043062201,\n",
       " 16070.942583732058,\n",
       " 15913.788659793814,\n",
       " 16455.81,\n",
       " 16419.841025641024,\n",
       " 15802.169902912621,\n",
       " 15511.463541666666,\n",
       " 16470.15025906736,\n",
       " 16089.539215686274,\n",
       " 16176.547738693467,\n",
       " 16906.98611111111,\n",
       " 16686.824120603014,\n",
       " 16046.604761904762,\n",
       " 16789.048309178743,\n",
       " 16475.20105820106,\n",
       " 16237.289099526066,\n",
       " 16787.47263681592,\n",
       " 16692.355450236966,\n",
       " 16310.612745098038,\n",
       " 16319.492753623188,\n",
       " 16264.538860103627,\n",
       " 16276.185567010309,\n",
       " 16271.990099009901,\n",
       " 16553.558974358974,\n",
       " 16568.835897435896,\n",
       " 17116.22966507177,\n",
       " 15987.738461538462,\n",
       " 17345.54716981132,\n",
       " 16907.030303030304,\n",
       " 17007.755,\n",
       " 16425.798076923078,\n",
       " 16273.934673366834,\n",
       " 16288.80193236715,\n",
       " 16213.995024875621,\n",
       " 17035.648514851484,\n",
       " 16000.586206896553,\n",
       " 17050.81094527363,\n",
       " 16232.157407407407,\n",
       " 16696.964467005077,\n",
       " 16531.50731707317,\n",
       " 16930.76818181818,\n",
       " 17218.562814070352,\n",
       " 16662.8115942029,\n",
       " 16217.059113300493,\n",
       " 16463.45728643216,\n",
       " 15888.192118226601,\n",
       " 16721.67757009346,\n",
       " 16792.015463917527,\n",
       " 16847.857868020306,\n",
       " 16989.193236714975,\n",
       " 16248.637254901962,\n",
       " 16833.184331797234,\n",
       " 16267.628712871287,\n",
       " 16017.081632653062,\n",
       " 16380.617647058823,\n",
       " 16481.66990291262,\n",
       " 16701.468599033815,\n",
       " 16895.76923076923,\n",
       " 16341.568720379148,\n",
       " 16038.20202020202,\n",
       " 15887.140625,\n",
       " 15966.232227488152,\n",
       " 16468.276699029127,\n",
       " 16209.464864864865,\n",
       " 16498.034146341462,\n",
       " 15864.257281553399,\n",
       " 15943.708737864077,\n",
       " 16224.633165829146,\n",
       " 16128.098591549297,\n",
       " 16317.333333333334,\n",
       " 16454.906403940888,\n",
       " 16287.253731343284,\n",
       " 16710.28426395939,\n",
       " 15255.725490196079,\n",
       " 15198.915343915343,\n",
       " 15353.623255813953,\n",
       " 15874.912621359223,\n",
       " 15930.142857142857,\n",
       " 15634.175,\n",
       " 14819.8,\n",
       " 15628.56,\n",
       " 15422.393034825871,\n",
       " 15598.914141414141,\n",
       " 16277.030769230769,\n",
       " 15468.14705882353,\n",
       " 15629.87,\n",
       " 15185.640776699029,\n",
       " 16077.521126760563,\n",
       " 15834.069892473119,\n",
       " 16516.57843137255,\n",
       " 15488.390374331551,\n",
       " 15757.245098039215,\n",
       " 15284.76119402985,\n",
       " 16296.567164179105,\n",
       " 14928.91133004926,\n",
       " 15733.668341708542,\n",
       " 16567.808510638297,\n",
       " 16077.784688995216,\n",
       " 15325.034482758621,\n",
       " 16253.073684210527,\n",
       " 15434.165876777251,\n",
       " 15999.746606334842,\n",
       " 16247.849765258215,\n",
       " 15827.6,\n",
       " 15957.766169154229,\n",
       " 15442.680628272252,\n",
       " 16018.929648241206,\n",
       " 14785.077319587628,\n",
       " 15893.092307692308,\n",
       " 15905.620689655172,\n",
       " 16270.725888324872,\n",
       " 15283.47572815534,\n",
       " 15214.0206185567,\n",
       " 15760.971291866028,\n",
       " 15869.38383838384,\n",
       " 16376.026178010472,\n",
       " 15648.740384615385,\n",
       " 15918.051643192488,\n",
       " 16390.75238095238,\n",
       " 15518.518518518518,\n",
       " 15551.74,\n",
       " 15860.330097087379,\n",
       " 15575.795918367347,\n",
       " 16240.966346153846,\n",
       " 15401.907692307692,\n",
       " 15811.573604060914,\n",
       " 16173.629441624365,\n",
       " 14764.722772277228,\n",
       " 15582.35294117647,\n",
       " 15596.636815920398,\n",
       " 15794.128078817734,\n",
       " 14639.07960199005,\n",
       " 15544.570707070707,\n",
       " 14987.851162790697,\n",
       " 15241.303482587065,\n",
       " 14822.572727272727,\n",
       " 15002.782407407407,\n",
       " 14631.342995169081,\n",
       " 14971.717592592593,\n",
       " 15011.024752475247,\n",
       " 15039.2,\n",
       " 15265.363636363636,\n",
       " 15194.113636363636,\n",
       " 14882.747368421053,\n",
       " 14810.537313432837,\n",
       " 15119.187165775402,\n",
       " 15438.928909952607,\n",
       " 15702.939086294416,\n",
       " 14244.93607305936,\n",
       " 14619.885416666666,\n",
       " 14428.278606965174,\n",
       " 14982.272300469484,\n",
       " 15320.903381642513,\n",
       " 15726.065326633166,\n",
       " 15385.301020408164,\n",
       " 14051.372448979591,\n",
       " 15985.921568627451]"
      ]
     },
     "execution_count": 10,
     "metadata": {},
     "output_type": "execute_result"
    }
   ],
   "source": [
    "f3_mean"
   ]
  },
  {
   "cell_type": "code",
   "execution_count": 11,
   "metadata": {},
   "outputs": [
    {
     "data": {
      "text/plain": [
       "147452.17535545025"
      ]
     },
     "execution_count": 11,
     "metadata": {},
     "output_type": "execute_result"
    }
   ],
   "source": [
    "f3_mean[0]"
   ]
  },
  {
   "cell_type": "code",
   "execution_count": 13,
   "metadata": {},
   "outputs": [
    {
     "data": {
      "text/plain": [
       "15985.921568627451"
      ]
     },
     "execution_count": 13,
     "metadata": {},
     "output_type": "execute_result"
    }
   ],
   "source": [
    "f3_mean[999]"
   ]
  },
  {
   "cell_type": "code",
   "execution_count": 45,
   "metadata": {},
   "outputs": [
    {
     "name": "stderr",
     "output_type": "stream",
     "text": [
      "No artists with labels found to put in legend.  Note that artists whose label start with an underscore are ignored when legend() is called with no argument.\n"
     ]
    },
    {
     "data": {
      "image/png": "[encoded data removed]",
      "text/plain": [
       "<Figure size 432x288 with 1 Axes>"
      ]
     },
     "metadata": {
      "needs_background": "light"
     },
     "output_type": "display_data"
    }
   ],
   "source": [
    "from numpy import arange\n",
    "from scipy.optimize import curve_fit\n",
    "plt.loglog(f_mean,'o-')\n",
    "popt,pcov=curve_fit(lambda x,c,a:c*x**(a),np.arange(0,1000)[5:],f_mean[5:])\n",
    "plt.plot(np.arange(0,1000)[5:],popt[0]*np.arange(0,1000)[5:]**(popt[1]))\n",
    "plt.legend()\n",
    "plt.show()\n"
   ]
  },
  {
   "cell_type": "code",
   "execution_count": 46,
   "metadata": {},
   "outputs": [
    {
     "data": {
      "text/plain": [
       "(array([ 1.23367235e+05, -2.89564564e-01]),\n",
       " array([[ 4.12333521e+05, -6.05236699e-01],\n",
       "        [-6.05236699e-01,  9.52383134e-07]]))"
      ]
     },
     "execution_count": 46,
     "metadata": {},
     "output_type": "execute_result"
    }
   ],
   "source": [
    "popt,pcov"
   ]
  },
  {
   "cell_type": "code",
   "execution_count": 52,
   "metadata": {},
   "outputs": [
    {
     "data": {
      "text/plain": [
       "Text(0, 0.5, 'fixation time-log_r3')"
      ]
     },
     "execution_count": 52,
     "metadata": {},
     "output_type": "execute_result"
    },
    {
     "data": {
      "image/png": "[encoded data removed]",
      "text/plain": [
       "<Figure size 432x288 with 1 Axes>"
      ]
     },
     "metadata": {
      "needs_background": "light"
     },
     "output_type": "display_data"
    }
   ],
   "source": [
    "plt.plot(f_mean,'ko-')\n",
    "plt.xscale('log')\n",
    "plt.yscale('log')\n",
    "plt.xlabel('number of added edges to graph-log');plt.ylabel('fixation time-log_r3')"
   ]
  },
  {
   "cell_type": "code",
   "execution_count": 15,
   "metadata": {},
   "outputs": [],
   "source": [
    "lastm_avg=[]\n",
    "for i in range (1000):\n",
    "    M_avg=np.loadtxt('M_avg'+str(i)+'.dat')\n",
    "    lastm_avg.append(M_avg[-1])"
   ]
  },
  {
   "cell_type": "code",
   "execution_count": 48,
   "metadata": {},
   "outputs": [
    {
     "data": {
      "text/plain": [
       "Text(0, 0.5, 'fixation probablity_r3')"
      ]
     },
     "execution_count": 48,
     "metadata": {},
     "output_type": "execute_result"
    },
    {
     "data": {
      "image/png": "[encoded data removed]",
      "text/plain": [
       "<Figure size 432x288 with 1 Axes>"
      ]
     },
     "metadata": {
      "needs_background": "light"
     },
     "output_type": "display_data"
    }
   ],
   "source": [
    "plt.plot(lastm_avg)\n",
    "plt.ylim(0,1)\n",
    "plt.xlabel('number of added edges to graph');plt.ylabel('fixation probablity_r3')"
   ]
  },
  {
   "cell_type": "code",
   "execution_count": 34,
   "metadata": {},
   "outputs": [
    {
     "name": "stderr",
     "output_type": "stream",
     "text": [
      "No artists with labels found to put in legend.  Note that artists whose label start with an underscore are ignored when legend() is called with no argument.\n"
     ]
    },
    {
     "data": {
      "image/png": "[encoded data removed]",
      "text/plain": [
       "<Figure size 432x288 with 1 Axes>"
      ]
     },
     "metadata": {
      "needs_background": "light"
     },
     "output_type": "display_data"
    }
   ],
   "source": [
    "from numpy import arange\n",
    "from scipy.optimize import curve_fit\n",
    "#plt.plot(lastm_avg)\n",
    "popt,pcov=curve_fit(lambda x,c,a:c*x**(a),np.arange(0,1000)[5:],lastm_avg[5:])\n",
    "plt.plot(np.arange(0,1000)[5:],popt[0]*np.arange(0,1000)[5:]**(popt[1]))\n",
    "plt.ylim(0,1)\n",
    "plt.legend()\n",
    "plt.show()"
   ]
  },
  {
   "cell_type": "code",
   "execution_count": 33,
   "metadata": {},
   "outputs": [
    {
     "data": {
      "text/plain": [
       "array([ 0.71199231, -0.00803381])"
      ]
     },
     "execution_count": 33,
     "metadata": {},
     "output_type": "execute_result"
    }
   ],
   "source": [
    "popt"
   ]
  },
  {
   "cell_type": "code",
   "execution_count": 16,
   "metadata": {},
   "outputs": [],
   "source": [
    "Mu=(np.sum(lastm_avg)/len(lastm_avg))"
   ]
  },
  {
   "cell_type": "code",
   "execution_count": 17,
   "metadata": {},
   "outputs": [
    {
     "data": {
      "text/plain": [
       "0.6789833333333334"
      ]
     },
     "execution_count": 17,
     "metadata": {},
     "output_type": "execute_result"
    }
   ],
   "source": [
    "Mu"
   ]
  },
  {
   "cell_type": "code",
   "execution_count": 18,
   "metadata": {},
   "outputs": [],
   "source": [
    "Aa=(lastm_avg-Mu)**2"
   ]
  },
  {
   "cell_type": "code",
   "execution_count": 19,
   "metadata": {},
   "outputs": [
    {
     "data": {
      "text/plain": [
       "array([5.92922500e-04, 5.92922500e-04, 5.92922500e-04, 9.62033611e-04,\n",
       "       1.03361111e-06, 1.68236694e-03, 9.62033611e-04, 4.98033611e-04,\n",
       "       2.27370028e-03, 2.05922500e-04, 2.05922500e-04, 9.62033611e-04,\n",
       "       1.04436694e-03, 1.96692250e-03, 1.03361111e-06, 1.21366944e-04,\n",
       "       1.27092250e-03, 5.90336111e-05, 3.19225000e-05, 4.41700278e-04,\n",
       "       3.12700278e-04, 8.07002778e-05, 9.62033611e-04, 8.07002778e-05,\n",
       "       1.96692250e-03, 1.17992250e-03, 3.19225000e-05, 4.41700278e-04,\n",
       "       1.03361111e-06, 1.96692250e-03, 3.60366944e-04, 2.27370028e-03,\n",
       "       2.44922500e-04, 4.98033611e-04, 4.98033611e-04, 3.32736694e-03,\n",
       "       1.03361111e-06, 4.14092250e-03, 1.42003361e-03, 1.03361111e-06,\n",
       "       8.40033611e-04, 5.92922500e-04, 1.21366944e-04, 2.27370028e-03,\n",
       "       2.44922500e-04, 2.27370028e-03, 8.07002778e-05, 5.92922500e-04,\n",
       "       2.05922500e-04, 2.27370028e-03, 5.36694444e-06, 1.04436694e-03,\n",
       "       5.92922500e-04, 1.21366944e-04, 5.90336111e-05, 5.90336111e-05,\n",
       "       6.57922500e-04, 2.60270028e-03, 7.66366944e-04, 4.41700278e-04,\n",
       "       3.12700278e-04, 1.42003361e-03, 4.98033611e-04, 3.12700278e-04,\n",
       "       5.36694444e-06, 2.05922500e-04, 3.19225000e-05, 4.98033611e-04,\n",
       "       1.03361111e-06, 2.39936694e-03, 1.42003361e-03, 1.17992250e-03,\n",
       "       9.62033611e-04, 4.98033611e-04, 5.92922500e-04, 4.41700278e-04,\n",
       "       4.98033611e-04, 5.36694444e-06, 9.62033611e-04, 6.57922500e-04,\n",
       "       9.62033611e-04, 5.36694444e-06, 5.92922500e-04, 5.36694444e-06,\n",
       "       3.12700278e-04, 1.03361111e-06, 8.07002778e-05, 3.60366944e-04,\n",
       "       2.39936694e-03, 5.92922500e-04, 9.62033611e-04, 4.14092250e-03,\n",
       "       1.96692250e-03, 1.21366944e-04, 8.07002778e-05, 2.44922500e-04,\n",
       "       1.03361111e-06, 1.04436694e-03, 5.36694444e-06, 8.07002778e-05,\n",
       "       1.17992250e-03, 1.42003361e-03, 9.62033611e-04, 3.12700278e-04,\n",
       "       9.62033611e-04, 3.19225000e-05, 1.21366944e-04, 4.41700278e-04,\n",
       "       1.89225000e-05, 2.95392250e-03, 1.51700278e-04, 4.41700278e-04,\n",
       "       2.27370028e-03, 4.41700278e-04, 4.41700278e-04, 1.79070028e-03,\n",
       "       1.21366944e-04, 3.19225000e-05, 1.89225000e-05, 5.92922500e-04,\n",
       "       5.36694444e-06, 8.07002778e-05, 1.03361111e-06, 5.36694444e-06,\n",
       "       2.95392250e-03, 1.51970028e-03, 1.96692250e-03, 2.27370028e-03,\n",
       "       1.89225000e-05, 2.60270028e-03, 1.89225000e-05, 8.07002778e-05,\n",
       "       8.40033611e-04, 4.58103361e-03, 7.66366944e-04, 4.41700278e-04,\n",
       "       2.44922500e-04, 1.89225000e-05, 3.12700278e-04, 5.92922500e-04,\n",
       "       3.19225000e-05, 1.21366944e-04, 1.17992250e-03, 3.19225000e-05,\n",
       "       3.12700278e-04, 4.41700278e-04, 1.51700278e-04, 9.62033611e-04,\n",
       "       4.98033611e-04, 3.72303361e-03, 2.05922500e-04, 1.21366944e-04,\n",
       "       1.17992250e-03, 2.05922500e-04, 1.96692250e-03, 1.51700278e-04,\n",
       "       3.12700278e-04, 2.27370028e-03, 5.36694444e-06, 2.05922500e-04,\n",
       "       2.73703361e-03, 1.51700278e-04, 4.98033611e-04, 5.36694444e-06,\n",
       "       1.51700278e-04, 8.07002778e-05, 8.07002778e-05, 4.41700278e-04,\n",
       "       3.60366944e-04, 2.73703361e-03, 2.05922500e-04, 3.09692250e-03,\n",
       "       1.03361111e-06, 2.05922500e-04, 1.51700278e-04, 2.44922500e-04,\n",
       "       1.42003361e-03, 1.17992250e-03, 8.07002778e-05, 3.19225000e-05,\n",
       "       5.92922500e-04, 1.51700278e-04, 5.90336111e-05, 1.68236694e-03,\n",
       "       3.32736694e-03, 1.51970028e-03, 4.41700278e-04, 3.60366944e-04,\n",
       "       6.57922500e-04, 5.92922500e-04, 1.51700278e-04, 5.90336111e-05,\n",
       "       1.51700278e-04, 5.92922500e-04, 5.90336111e-05, 1.04436694e-03,\n",
       "       7.66366944e-04, 9.62033611e-04, 1.89225000e-05, 4.41700278e-04,\n",
       "       2.95392250e-03, 1.03361111e-06, 1.96692250e-03, 1.51700278e-04,\n",
       "       3.19225000e-05, 2.44922500e-04, 5.36694444e-06, 8.40033611e-04,\n",
       "       3.60366944e-04, 3.12700278e-04, 1.96692250e-03, 4.98033611e-04,\n",
       "       2.08392250e-03, 5.90336111e-05, 1.42003361e-03, 2.05922500e-04,\n",
       "       6.57922500e-04, 8.07002778e-05, 1.51700278e-04, 1.21366944e-04,\n",
       "       5.36694444e-06, 7.66366944e-04, 3.12700278e-04, 1.21366944e-04,\n",
       "       9.62033611e-04, 1.17992250e-03, 5.90336111e-05, 8.07002778e-05,\n",
       "       4.98033611e-04, 4.98033611e-04, 8.40033611e-04, 1.51700278e-04,\n",
       "       5.90336111e-05, 8.07002778e-05, 3.12700278e-04, 9.62033611e-04,\n",
       "       1.21366944e-04, 8.07002778e-05, 5.36694444e-06, 3.12700278e-04,\n",
       "       1.04436694e-03, 3.60366944e-04, 1.03361111e-06, 1.04436694e-03,\n",
       "       4.41700278e-04, 4.98033611e-04, 7.66366944e-04, 1.03361111e-06,\n",
       "       1.27092250e-03, 8.07002778e-05, 4.41700278e-04, 1.89225000e-05,\n",
       "       3.12700278e-04, 8.07002778e-05, 1.03361111e-06, 6.57922500e-04,\n",
       "       1.21366944e-04, 1.51970028e-03, 1.96692250e-03, 1.51700278e-04,\n",
       "       3.12700278e-04, 1.03361111e-06, 2.05922500e-04, 1.21366944e-04,\n",
       "       4.41700278e-04, 1.42003361e-03, 2.08392250e-03, 9.62033611e-04,\n",
       "       5.52792250e-03, 1.04436694e-03, 3.19225000e-05, 5.36694444e-06,\n",
       "       7.66366944e-04, 1.21366944e-04, 2.05922500e-04, 5.36694444e-06,\n",
       "       5.90336111e-05, 3.47903361e-03, 9.62033611e-04, 3.12700278e-04,\n",
       "       3.60366944e-04, 1.03361111e-06, 8.07002778e-05, 1.17992250e-03,\n",
       "       1.04436694e-03, 1.42003361e-03, 6.57922500e-04, 1.04436694e-03,\n",
       "       9.62033611e-04, 3.60366944e-04, 2.05922500e-04, 1.51700278e-04,\n",
       "       8.40033611e-04, 7.66366944e-04, 7.66366944e-04, 1.51700278e-04,\n",
       "       3.19225000e-05, 1.27092250e-03, 2.44922500e-04, 2.05922500e-04,\n",
       "       1.96692250e-03, 1.51700278e-04, 5.90336111e-05, 5.92922500e-04,\n",
       "       4.98033611e-04, 1.42003361e-03, 1.03361111e-06, 4.41700278e-04,\n",
       "       3.19225000e-05, 1.03361111e-06, 5.90336111e-05, 1.03361111e-06,\n",
       "       2.05922500e-04, 1.17992250e-03, 1.51970028e-03, 1.21366944e-04,\n",
       "       8.07002778e-05, 3.47903361e-03, 1.27092250e-03, 4.30992250e-03,\n",
       "       3.19225000e-05, 1.17992250e-03, 8.07002778e-05, 5.90336111e-05,\n",
       "       1.51970028e-03, 6.57922500e-04, 7.66366944e-04, 4.98033611e-04,\n",
       "       8.40033611e-04, 1.96692250e-03, 4.41700278e-04, 3.19225000e-05,\n",
       "       1.51700278e-04, 4.98033611e-04, 4.41700278e-04, 1.51970028e-03,\n",
       "       2.39936694e-03, 3.60366944e-04, 8.07002778e-05, 3.60366944e-04,\n",
       "       4.41700278e-04, 3.60366944e-04, 7.66366944e-04, 2.05922500e-04,\n",
       "       1.21366944e-04, 4.98033611e-04, 1.51700278e-04, 5.92922500e-04,\n",
       "       5.36694444e-06, 9.62033611e-04, 2.05922500e-04, 3.60366944e-04,\n",
       "       3.12700278e-04, 8.07002778e-05, 9.62033611e-04, 3.12700278e-04,\n",
       "       9.62033611e-04, 1.51970028e-03, 2.73703361e-03, 7.66366944e-04,\n",
       "       3.47903361e-03, 3.19225000e-05, 1.89225000e-05, 3.60366944e-04,\n",
       "       6.57922500e-04, 8.07002778e-05, 3.60366944e-04, 4.41700278e-04,\n",
       "       1.51970028e-03, 3.60366944e-04, 1.21366944e-04, 1.51970028e-03,\n",
       "       1.96692250e-03, 6.57922500e-04, 8.07002778e-05, 1.42003361e-03,\n",
       "       8.40033611e-04, 1.03361111e-06, 6.57922500e-04, 1.89225000e-05,\n",
       "       8.07002778e-05, 5.90336111e-05, 3.19225000e-05, 1.96692250e-03,\n",
       "       8.07002778e-05, 3.12700278e-04, 3.32736694e-03, 8.07002778e-05,\n",
       "       8.07002778e-05, 1.51970028e-03, 1.21366944e-04, 3.12700278e-04,\n",
       "       8.07002778e-05, 5.90336111e-05, 5.90336111e-05, 1.89225000e-05,\n",
       "       1.03361111e-06, 1.89225000e-05, 2.44922500e-04, 3.19225000e-05,\n",
       "       5.92922500e-04, 1.17992250e-03, 1.89225000e-05, 5.92922500e-04,\n",
       "       5.90336111e-05, 5.92922500e-04, 1.89225000e-05, 4.41700278e-04,\n",
       "       3.19225000e-05, 1.21366944e-04, 1.21366944e-04, 1.21366944e-04,\n",
       "       3.60366944e-04, 1.04436694e-03, 8.07002778e-05, 9.62033611e-04,\n",
       "       3.60366944e-04, 3.12700278e-04, 3.12700278e-04, 1.68236694e-03,\n",
       "       1.42003361e-03, 1.89225000e-05, 5.36694444e-06, 3.60366944e-04,\n",
       "       2.73703361e-03, 3.19225000e-05, 8.07002778e-05, 1.89225000e-05,\n",
       "       8.07002778e-05, 1.51700278e-04, 1.27092250e-03, 6.57922500e-04,\n",
       "       8.07002778e-05, 5.92922500e-04, 4.41700278e-04, 3.60366944e-04,\n",
       "       5.36694444e-06, 3.12700278e-04, 2.08392250e-03, 3.19225000e-05,\n",
       "       5.90336111e-05, 1.17992250e-03, 1.51970028e-03, 1.51700278e-04,\n",
       "       3.19225000e-05, 5.92922500e-04, 5.90336111e-05, 3.19225000e-05,\n",
       "       5.90336111e-05, 1.17992250e-03, 6.57922500e-04, 1.89225000e-05,\n",
       "       2.05922500e-04, 3.19225000e-05, 2.44922500e-04, 7.66366944e-04,\n",
       "       1.17992250e-03, 8.07002778e-05, 3.12700278e-04, 5.90336111e-05,\n",
       "       8.07002778e-05, 7.66366944e-04, 1.17992250e-03, 1.79070028e-03,\n",
       "       5.36694444e-06, 6.57922500e-04, 1.03361111e-06, 1.21366944e-04,\n",
       "       2.05922500e-04, 3.60366944e-04, 1.96692250e-03, 4.41700278e-04,\n",
       "       5.92922500e-04, 8.40033611e-04, 7.66366944e-04, 1.68236694e-03,\n",
       "       1.17992250e-03, 1.42003361e-03, 1.89225000e-05, 3.60366944e-04,\n",
       "       1.21366944e-04, 6.57922500e-04, 7.66366944e-04, 5.90336111e-05,\n",
       "       3.72303361e-03, 2.05922500e-04, 2.44922500e-04, 3.19225000e-05,\n",
       "       5.36694444e-06, 3.60366944e-04, 1.51700278e-04, 3.60366944e-04,\n",
       "       3.19225000e-05, 1.03361111e-06, 8.40033611e-04, 8.40033611e-04,\n",
       "       9.62033611e-04, 4.58103361e-03, 1.42003361e-03, 2.05922500e-04,\n",
       "       3.60366944e-04, 1.17992250e-03, 4.41700278e-04, 2.44922500e-04,\n",
       "       5.36694444e-06, 2.95392250e-03, 5.36694444e-06, 6.57922500e-04,\n",
       "       1.17992250e-03, 6.57922500e-04, 2.44922500e-04, 8.07002778e-05,\n",
       "       2.44922500e-04, 1.42003361e-03, 1.21366944e-04, 2.27370028e-03,\n",
       "       2.08392250e-03, 3.19225000e-05, 5.36694444e-06, 3.19225000e-05,\n",
       "       1.96692250e-03, 1.04436694e-03, 1.89225000e-05, 4.98033611e-04,\n",
       "       5.92922500e-04, 2.05922500e-04, 1.27092250e-03, 1.27092250e-03,\n",
       "       9.62033611e-04, 1.89225000e-05, 1.89225000e-05, 4.41700278e-04,\n",
       "       8.40033611e-04, 1.96692250e-03, 5.92922500e-04, 1.21366944e-04,\n",
       "       8.40033611e-04, 3.19225000e-05, 1.89225000e-05, 4.41700278e-04,\n",
       "       8.07002778e-05, 1.27092250e-03, 1.51970028e-03, 5.90336111e-05,\n",
       "       3.60366944e-04, 1.89225000e-05, 3.12700278e-04, 3.47903361e-03,\n",
       "       5.36694444e-06, 7.66366944e-04, 1.04436694e-03, 1.21366944e-04,\n",
       "       1.03361111e-06, 2.05922500e-04, 5.92922500e-04, 8.07002778e-05,\n",
       "       1.03361111e-06, 1.04436694e-03, 1.96692250e-03, 1.51700278e-04,\n",
       "       1.51700278e-04, 1.51700278e-04, 3.32736694e-03, 3.47903361e-03,\n",
       "       5.92922500e-04, 2.73703361e-03, 5.92922500e-04, 1.17992250e-03,\n",
       "       5.90336111e-05, 5.90336111e-05, 5.36694444e-06, 4.98033611e-04,\n",
       "       1.89225000e-05, 2.44922500e-04, 9.62033611e-04, 1.89225000e-05,\n",
       "       2.44922500e-04, 5.92922500e-04, 1.89225000e-05, 1.89225000e-05,\n",
       "       1.03361111e-06, 1.27092250e-03, 1.04436694e-03, 1.79070028e-03,\n",
       "       1.68236694e-03, 5.90336111e-05, 3.60366944e-04, 5.90336111e-05,\n",
       "       1.03361111e-06, 4.41700278e-04, 8.07002778e-05, 2.44922500e-04,\n",
       "       2.08392250e-03, 2.05922500e-04, 2.05922500e-04, 1.21366944e-04,\n",
       "       1.96692250e-03, 2.44922500e-04, 6.57922500e-04, 5.90336111e-05,\n",
       "       2.39936694e-03, 4.98033611e-04, 5.36694444e-06, 8.40033611e-04,\n",
       "       5.92922500e-04, 1.03361111e-06, 2.27370028e-03, 8.40033611e-04,\n",
       "       5.36694444e-06, 1.17992250e-03, 1.51700278e-04, 5.90336111e-05,\n",
       "       1.79070028e-03, 5.90336111e-05, 4.14092250e-03, 2.73703361e-03,\n",
       "       5.90336111e-05, 6.57922500e-04, 3.19225000e-05, 6.57922500e-04,\n",
       "       4.41700278e-04, 8.07002778e-05, 1.96692250e-03, 8.40033611e-04,\n",
       "       1.51700278e-04, 1.51970028e-03, 5.36694444e-06, 1.51970028e-03,\n",
       "       4.75870028e-03, 3.60366944e-04, 1.21366944e-04, 3.12700278e-04,\n",
       "       6.57922500e-04, 8.07002778e-05, 9.62033611e-04, 1.51700278e-04,\n",
       "       4.30992250e-03, 5.90336111e-05, 1.51970028e-03, 5.36694444e-06,\n",
       "       5.36694444e-06, 1.51970028e-03, 8.40033611e-04, 8.40033611e-04,\n",
       "       4.98033611e-04, 3.60366944e-04, 3.60366944e-04, 1.68236694e-03,\n",
       "       3.19225000e-05, 1.89225000e-05, 1.51970028e-03, 8.40033611e-04,\n",
       "       4.41700278e-04, 1.03361111e-06, 8.40033611e-04, 3.88336694e-03,\n",
       "       6.57922500e-04, 1.21366944e-04, 1.03361111e-06, 8.40033611e-04,\n",
       "       5.04336694e-03, 5.92922500e-04, 1.04436694e-03, 1.51970028e-03,\n",
       "       4.98033611e-04, 2.05922500e-04, 1.79070028e-03, 9.62033611e-04,\n",
       "       6.57922500e-04, 1.51700278e-04, 3.88336694e-03, 9.14892250e-03,\n",
       "       3.60366944e-04, 4.41700278e-04, 2.60270028e-03, 1.89225000e-05,\n",
       "       4.41700278e-04, 1.89225000e-05, 8.07002778e-05, 9.62033611e-04,\n",
       "       2.27370028e-03, 1.51700278e-04, 2.08392250e-03, 4.98033611e-04,\n",
       "       1.68236694e-03, 6.57922500e-04, 3.47903361e-03, 5.90336111e-05,\n",
       "       7.66366944e-04, 1.51970028e-03, 1.04436694e-03, 1.89225000e-05,\n",
       "       3.12700278e-04, 1.51970028e-03, 5.36694444e-06, 2.39936694e-03,\n",
       "       8.07002778e-05, 1.03361111e-06, 5.92922500e-04, 2.44922500e-04,\n",
       "       4.41700278e-04, 1.21366944e-04, 2.95392250e-03, 2.08392250e-03,\n",
       "       1.21366944e-04, 1.89225000e-05, 4.30992250e-03, 1.89225000e-05,\n",
       "       1.03361111e-06, 2.44922500e-04, 5.90336111e-05, 1.79070028e-03,\n",
       "       2.05922500e-04, 2.05922500e-04, 1.27092250e-03, 3.19225000e-05,\n",
       "       2.05922500e-04, 1.51700278e-04, 7.66366944e-04, 3.60366944e-04,\n",
       "       5.36694444e-06, 8.07002778e-05, 2.05922500e-04, 1.27092250e-03,\n",
       "       1.04436694e-03, 1.04436694e-03, 1.51970028e-03, 1.89225000e-05,\n",
       "       1.51700278e-04, 1.03361111e-06, 3.09692250e-03, 6.57922500e-04,\n",
       "       2.05922500e-04, 3.60366944e-04, 1.21366944e-04, 2.08392250e-03,\n",
       "       2.05922500e-04, 8.40033611e-04, 2.27370028e-03, 1.42003361e-03,\n",
       "       2.95392250e-03, 3.19225000e-05, 3.60366944e-04, 3.12700278e-04,\n",
       "       1.03361111e-06, 8.07002778e-05, 2.44922500e-04, 8.07002778e-05,\n",
       "       8.40033611e-04, 1.21366944e-04, 6.57922500e-04, 3.12700278e-04,\n",
       "       8.52236694e-03, 2.44922500e-04, 4.98033611e-04, 8.07002778e-05,\n",
       "       4.98033611e-04, 7.66366944e-04, 4.41700278e-04, 8.07002778e-05,\n",
       "       3.12700278e-04, 6.57922500e-04, 3.19225000e-05, 8.07002778e-05,\n",
       "       5.90336111e-05, 3.19225000e-05, 3.60366944e-04, 1.89225000e-05,\n",
       "       5.36694444e-06, 4.41700278e-04, 1.51700278e-04, 8.07002778e-05,\n",
       "       2.05922500e-04, 4.98033611e-04, 1.51700278e-04, 1.04436694e-03,\n",
       "       1.03361111e-06, 2.05922500e-04, 5.92922500e-04, 1.03361111e-06,\n",
       "       4.98033611e-04, 1.89225000e-05, 2.73703361e-03, 8.07002778e-05,\n",
       "       7.66366944e-04, 3.19225000e-05, 3.19225000e-05, 1.04436694e-03,\n",
       "       3.60366944e-04, 2.05922500e-04, 1.79070028e-03, 1.17992250e-03,\n",
       "       1.68236694e-03, 4.98033611e-04, 1.03361111e-06, 1.27092250e-03,\n",
       "       5.92922500e-04, 3.12700278e-04, 1.42003361e-03, 1.51970028e-03,\n",
       "       3.60366944e-04, 3.12700278e-04, 1.21366944e-04, 3.19225000e-05,\n",
       "       5.36694444e-06, 5.36694444e-06, 1.51700278e-04, 1.21366944e-04,\n",
       "       1.79070028e-03, 2.44922500e-04, 8.40033611e-04, 6.57922500e-04,\n",
       "       3.19225000e-05, 4.30992250e-03, 4.41700278e-04, 4.98033611e-04,\n",
       "       1.21366944e-04, 1.27092250e-03, 4.41700278e-04, 6.57922500e-04,\n",
       "       4.98033611e-04, 1.21366944e-04, 9.62033611e-04, 6.57922500e-04,\n",
       "       4.98033611e-04, 1.89225000e-05, 5.04336694e-03, 4.41700278e-04,\n",
       "       2.05922500e-04, 1.03361111e-06, 5.92922500e-04, 1.21366944e-04,\n",
       "       3.19225000e-05, 1.27092250e-03, 1.51700278e-04, 2.44922500e-04,\n",
       "       2.05922500e-04, 3.32736694e-03, 8.40033611e-04, 5.90336111e-05,\n",
       "       5.92922500e-04, 3.19225000e-05, 1.79070028e-03, 3.12700278e-04,\n",
       "       3.12700278e-04, 1.04436694e-03, 1.51700278e-04, 8.40033611e-04,\n",
       "       5.90336111e-05, 1.51970028e-03, 1.27092250e-03, 1.03361111e-06,\n",
       "       2.44922500e-04, 1.68236694e-03, 2.44922500e-04, 4.41700278e-04,\n",
       "       1.21366944e-04, 2.39936694e-03, 5.92922500e-04, 8.07002778e-05,\n",
       "       5.92922500e-04, 1.03361111e-06, 1.21366944e-04, 1.27092250e-03,\n",
       "       1.04436694e-03, 3.19225000e-05, 8.40033611e-04, 8.40033611e-04,\n",
       "       3.12700278e-04, 8.40033611e-04, 7.66366944e-04, 3.60366944e-04,\n",
       "       1.51700278e-04, 2.05922500e-04, 2.44922500e-04, 1.21366944e-04,\n",
       "       8.07002778e-05, 3.19225000e-05, 5.36694444e-06, 8.07002778e-05,\n",
       "       1.68236694e-03, 4.98033611e-04, 1.89225000e-05, 2.95392250e-03,\n",
       "       2.44922500e-04, 1.21366944e-04, 5.36694444e-06, 2.44922500e-04,\n",
       "       5.36694444e-06, 1.17992250e-03, 1.04436694e-03, 4.98033611e-04,\n",
       "       1.21366944e-04, 1.03361111e-06, 1.96692250e-03, 3.19225000e-05,\n",
       "       6.57922500e-04, 1.03361111e-06, 5.90336111e-05, 1.21366944e-04,\n",
       "       8.40033611e-04, 5.92922500e-04, 3.60366944e-04, 1.51970028e-03,\n",
       "       5.92922500e-04, 5.90336111e-05, 3.88336694e-03, 1.89225000e-05,\n",
       "       5.90336111e-05, 5.90336111e-05, 2.44922500e-04, 9.62033611e-04,\n",
       "       8.40033611e-04, 5.36694444e-06, 8.07002778e-05, 4.98033611e-04,\n",
       "       1.03361111e-06, 2.39936694e-03, 1.42003361e-03, 5.90336111e-05,\n",
       "       4.41700278e-04, 1.51700278e-04, 1.51700278e-04, 1.51700278e-04,\n",
       "       8.07002778e-05, 3.60366944e-04, 8.40033611e-04, 1.03361111e-06,\n",
       "       1.51700278e-04, 5.90336111e-05, 9.62033611e-04, 3.47903361e-03,\n",
       "       1.03361111e-06, 3.09692250e-03, 1.03361111e-06, 8.07002778e-05,\n",
       "       8.07002778e-05, 5.36694444e-06, 2.44922500e-04, 2.73703361e-03,\n",
       "       3.12700278e-04, 5.36694444e-06, 2.08392250e-03, 5.92922500e-04,\n",
       "       3.32736694e-03, 9.62033611e-04, 4.41700278e-04, 8.07002778e-05,\n",
       "       1.79070028e-03, 2.44922500e-04, 1.04436694e-03, 8.40033611e-04,\n",
       "       5.36694444e-06, 4.98033611e-04, 5.90336111e-05, 1.04436694e-03,\n",
       "       3.12700278e-04, 3.60366944e-04, 1.79070028e-03, 2.05922500e-04,\n",
       "       9.62033611e-04, 4.41700278e-04, 2.39936694e-03, 1.51700278e-04,\n",
       "       5.90336111e-05, 6.57922500e-04, 2.05922500e-04, 8.40033611e-04,\n",
       "       4.98033611e-04, 4.98033611e-04, 3.19225000e-05, 1.03361111e-06,\n",
       "       8.07002778e-05, 5.36694444e-06, 8.07002778e-05, 3.60366944e-04,\n",
       "       1.42003361e-03, 8.07002778e-05, 2.95392250e-03, 1.68236694e-03,\n",
       "       1.21366944e-04, 1.68236694e-03, 3.19225000e-05, 1.89225000e-05,\n",
       "       3.09692250e-03, 2.95392250e-03, 2.08392250e-03, 8.07002778e-05,\n",
       "       3.09692250e-03, 5.92922500e-04, 4.98033611e-04, 2.60270028e-03,\n",
       "       1.51970028e-03, 8.07002778e-05, 9.62033611e-04, 1.21366944e-04,\n",
       "       2.44922500e-04, 6.57922500e-04, 6.57922500e-04, 1.03361111e-06])"
      ]
     },
     "execution_count": 19,
     "metadata": {},
     "output_type": "execute_result"
    }
   ],
   "source": [
    "Aa"
   ]
  },
  {
   "cell_type": "code",
   "execution_count": 20,
   "metadata": {},
   "outputs": [
    {
     "data": {
      "text/plain": [
       "1000"
      ]
     },
     "execution_count": 20,
     "metadata": {},
     "output_type": "execute_result"
    }
   ],
   "source": [
    "len((lastm_avg-(np.sum(lastm_avg)/len(lastm_avg)))**2)"
   ]
  },
  {
   "cell_type": "code",
   "execution_count": 21,
   "metadata": {},
   "outputs": [
    {
     "data": {
      "text/plain": [
       "0.7205552777777777"
      ]
     },
     "execution_count": 21,
     "metadata": {},
     "output_type": "execute_result"
    }
   ],
   "source": [
    "(np.sum(Aa))"
   ]
  },
  {
   "cell_type": "code",
   "execution_count": 30,
   "metadata": {},
   "outputs": [],
   "source": [
    "Nn=1000"
   ]
  },
  {
   "cell_type": "code",
   "execution_count": 31,
   "metadata": {},
   "outputs": [
    {
     "data": {
      "text/plain": [
       "1000"
      ]
     },
     "execution_count": 31,
     "metadata": {},
     "output_type": "execute_result"
    }
   ],
   "source": [
    "Nn"
   ]
  },
  {
   "cell_type": "code",
   "execution_count": 32,
   "metadata": {},
   "outputs": [],
   "source": [
    "SIGMA=np.sqrt(np.sum(Aa)/Nn)"
   ]
  },
  {
   "cell_type": "code",
   "execution_count": 33,
   "metadata": {},
   "outputs": [
    {
     "data": {
      "text/plain": [
       "0.02684316072629633"
      ]
     },
     "execution_count": 33,
     "metadata": {},
     "output_type": "execute_result"
    }
   ],
   "source": [
    "SIGMA"
   ]
  },
  {
   "cell_type": "code",
   "execution_count": 34,
   "metadata": {},
   "outputs": [],
   "source": [
    "RSD=SIGMA/Mu"
   ]
  },
  {
   "cell_type": "code",
   "execution_count": 35,
   "metadata": {},
   "outputs": [
    {
     "data": {
      "text/plain": [
       "0.039534344082519934"
      ]
     },
     "execution_count": 35,
     "metadata": {},
     "output_type": "execute_result"
    }
   ],
   "source": [
    "RSD"
   ]
  },
  {
   "cell_type": "code",
   "execution_count": 36,
   "metadata": {},
   "outputs": [],
   "source": [
    "L=(np.sqrt(0.5)/np.sqrt(300))"
   ]
  },
  {
   "cell_type": "code",
   "execution_count": 37,
   "metadata": {},
   "outputs": [
    {
     "data": {
      "text/plain": [
       "0.0408248290463863"
      ]
     },
     "execution_count": 37,
     "metadata": {},
     "output_type": "execute_result"
    }
   ],
   "source": [
    "L"
   ]
  },
  {
   "cell_type": "code",
   "execution_count": null,
   "metadata": {},
   "outputs": [],
   "source": []
  }
 ],
 "metadata": {
  "kernelspec": {
   "display_name": "Python 3 (ipykernel)",
   "language": "python",
   "name": "python3"
  },
  "language_info": {
   "codemirror_mode": {
    "name": "ipython",
    "version": 3
   },
   "file_extension": ".py",
   "mimetype": "text/x-python",
   "name": "python",
   "nbconvert_exporter": "python",
   "pygments_lexer": "ipython3",
   "version": "3.9.12"
  }
 },
 "nbformat": 4,
 "nbformat_minor": 4
}
